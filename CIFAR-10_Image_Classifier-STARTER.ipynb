{
 "cells": [
  {
   "cell_type": "markdown",
   "metadata": {},
   "source": [
    "# Introduction\n",
    "\n",
    "In this project, you will build a neural network of your own design to evaluate the CIFAR-10 dataset.\n",
    "Our target accuracy is 70%, but any accuracy over 50% is a great start.\n",
    "Some of the benchmark results on CIFAR-10 include:\n",
    "\n",
    "78.9% Accuracy | [Deep Belief Networks; Krizhevsky, 2010](https://www.cs.toronto.edu/~kriz/conv-cifar10-aug2010.pdf)\n",
    "\n",
    "90.6% Accuracy | [Maxout Networks; Goodfellow et al., 2013](https://arxiv.org/pdf/1302.4389.pdf)\n",
    "\n",
    "96.0% Accuracy | [Wide Residual Networks; Zagoruyko et al., 2016](https://arxiv.org/pdf/1605.07146.pdf)\n",
    "\n",
    "99.0% Accuracy | [GPipe; Huang et al., 2018](https://arxiv.org/pdf/1811.06965.pdf)\n",
    "\n",
    "98.5% Accuracy | [Rethinking Recurrent Neural Networks and other Improvements for ImageClassification; Nguyen et al., 2020](https://arxiv.org/pdf/2007.15161.pdf)\n",
    "\n",
    "Research with this dataset is ongoing. Notably, many of these networks are quite large and quite expensive to train. \n",
    "\n",
    "## Imports"
   ]
  },
  {
   "cell_type": "code",
   "execution_count": 1,
   "metadata": {},
   "outputs": [],
   "source": [
    "## This cell contains the essential imports you will need – DO NOT CHANGE THE CONTENTS! ##\n",
    "import torch\n",
    "import torch.nn as nn\n",
    "import torch.nn.functional as F\n",
    "import torch.optim as optim\n",
    "import torchvision\n",
    "import torchvision.transforms as transforms\n",
    "import matplotlib.pyplot as plt\n",
    "import numpy as np"
   ]
  },
  {
   "cell_type": "markdown",
   "metadata": {},
   "source": [
    "## Load the Dataset\n",
    "\n",
    "Specify your transforms as a list first.\n",
    "The transforms module is already loaded as `transforms`.\n",
    "\n",
    "CIFAR-10 is fortunately included in the torchvision module.\n",
    "Then, you can create your dataset using the `CIFAR10` object from `torchvision.datasets` ([the documentation is available here](https://pytorch.org/docs/stable/torchvision/datasets.html#cifar)).\n",
    "Make sure to specify `download=True`! \n",
    "\n",
    "Once your dataset is created, you'll also need to define a `DataLoader` from the `torch.utils.data` module for both the train and the test set."
   ]
  },
  {
   "cell_type": "code",
   "execution_count": 2,
   "metadata": {},
   "outputs": [],
   "source": [
    "# Define transforms\n",
    "train_transfs = transforms.Compose((transforms.ToTensor(),\n",
    "                                    transforms.Normalize((0.5, 0.5, 0.5), (0.5, 0.5, 0.5)),\n",
    "                                    transforms.RandomErasing()))\n",
    "\n",
    "test_transfs = transforms.Compose((transforms.ToTensor(),\n",
    "                                   transforms.Normalize((0.5, 0.5, 0.5), (0.5, 0.5, 0.5))))\n",
    "\n",
    "\n",
    "# Create training set and define training dataloader\n",
    "trainset = torchvision.datasets.CIFAR10(root='./', train=True, transform=train_transfs)\n",
    "trainloader = torch.utils.data.DataLoader(dataset=trainset, batch_size=32, shuffle=True)\n",
    "\n",
    "# Create test set and define test dataloader\n",
    "testset = torchvision.datasets.CIFAR10(root='./', train=False, transform=test_transfs)\n",
    "testloader = torch.utils.data.DataLoader(dataset=testset, batch_size=32, shuffle=False)\n",
    "\n",
    "# The 10 classes in the dataset\n",
    "classes = ('plane', 'car', 'bird', 'cat', 'deer', 'dog', 'frog', 'horse', 'ship', 'truck')"
   ]
  },
  {
   "cell_type": "markdown",
   "metadata": {},
   "source": [
    "## Explore the Dataset\n",
    "Using matplotlib, numpy, and torch, explore the dimensions of your data.\n",
    "\n",
    "You can view images using the `show5` function defined below – it takes a data loader as an argument.\n",
    "Remember that normalized images will look really weird to you! You may want to try changing your transforms to view images.\n",
    "Typically using no transforms other than `toTensor()` works well for viewing – but not as well for training your network.\n",
    "If `show5` doesn't work, go back and check your code for creating your data loaders and your training/test sets."
   ]
  },
  {
   "cell_type": "code",
   "execution_count": 3,
   "metadata": {},
   "outputs": [],
   "source": [
    "def show5(img_loader):\n",
    "    dataiter = iter(img_loader)\n",
    "    \n",
    "    batch = next(dataiter)\n",
    "    labels = batch[1][0:5]\n",
    "    images = batch[0][0:5]\n",
    "    for i in range(5):\n",
    "        print(classes[labels[i]])\n",
    "    \n",
    "        image = images[i].numpy()\n",
    "        plt.imshow(image.T)\n",
    "        plt.show()"
   ]
  },
  {
   "cell_type": "code",
   "execution_count": 4,
   "metadata": {},
   "outputs": [
    {
     "name": "stdout",
     "output_type": "stream",
     "text": [
      "(50000, 32, 32, 3)\n",
      "(10000, 32, 32, 3)\n"
     ]
    }
   ],
   "source": [
    "print(trainloader.dataset.data.shape)\n",
    "print(testloader.dataset.data.shape)"
   ]
  },
  {
   "cell_type": "code",
   "execution_count": 5,
   "metadata": {},
   "outputs": [
    {
     "name": "stdout",
     "output_type": "stream",
     "text": [
      "Counter({6: 5000, 9: 5000, 4: 5000, 1: 5000, 2: 5000, 7: 5000, 8: 5000, 3: 5000, 5: 5000, 0: 5000})\n",
      "Counter({3: 1000, 8: 1000, 0: 1000, 6: 1000, 1: 1000, 9: 1000, 5: 1000, 7: 1000, 4: 1000, 2: 1000})\n"
     ]
    }
   ],
   "source": [
    "from collections import Counter\n",
    "\n",
    "print(Counter(trainloader.dataset.targets))\n",
    "print(Counter(testloader.dataset.targets))"
   ]
  },
  {
   "cell_type": "code",
   "execution_count": 6,
   "metadata": {},
   "outputs": [
    {
     "name": "stderr",
     "output_type": "stream",
     "text": [
      "Clipping input data to the valid range for imshow with RGB data ([0..1] for floats or [0..255] for integers).\n"
     ]
    },
    {
     "name": "stdout",
     "output_type": "stream",
     "text": [
      "deer\n"
     ]
    },
    {
     "data": {
      "image/png": "[encoded data removed]",
      "text/plain": [
       "<Figure size 640x480 with 1 Axes>"
      ]
     },
     "metadata": {},
     "output_type": "display_data"
    },
    {
     "name": "stderr",
     "output_type": "stream",
     "text": [
      "Clipping input data to the valid range for imshow with RGB data ([0..1] for floats or [0..255] for integers).\n"
     ]
    },
    {
     "name": "stdout",
     "output_type": "stream",
     "text": [
      "horse\n"
     ]
    },
    {
     "data": {
      "image/png": "[encoded data removed]",
      "text/plain": [
       "<Figure size 640x480 with 1 Axes>"
      ]
     },
     "metadata": {},
     "output_type": "display_data"
    },
    {
     "name": "stderr",
     "output_type": "stream",
     "text": [
      "Clipping input data to the valid range for imshow with RGB data ([0..1] for floats or [0..255] for integers).\n"
     ]
    },
    {
     "name": "stdout",
     "output_type": "stream",
     "text": [
      "dog\n"
     ]
    },
    {
     "data": {
      "image/png": "[encoded data removed]",
      "text/plain": [
       "<Figure size 640x480 with 1 Axes>"
      ]
     },
     "metadata": {},
     "output_type": "display_data"
    },
    {
     "name": "stderr",
     "output_type": "stream",
     "text": [
      "Clipping input data to the valid range for imshow with RGB data ([0..1] for floats or [0..255] for integers).\n"
     ]
    },
    {
     "name": "stdout",
     "output_type": "stream",
     "text": [
      "ship\n"
     ]
    },
    {
     "data": {
      "image/png": "[encoded data removed]",
      "text/plain": [
       "<Figure size 640x480 with 1 Axes>"
      ]
     },
     "metadata": {},
     "output_type": "display_data"
    },
    {
     "name": "stderr",
     "output_type": "stream",
     "text": [
      "Clipping input data to the valid range for imshow with RGB data ([0..1] for floats or [0..255] for integers).\n"
     ]
    },
    {
     "name": "stdout",
     "output_type": "stream",
     "text": [
      "deer\n"
     ]
    },
    {
     "data": {
      "image/png": "[encoded data removed]",
      "text/plain": [
       "<Figure size 640x480 with 1 Axes>"
      ]
     },
     "metadata": {},
     "output_type": "display_data"
    }
   ],
   "source": [
    "# Explore data\n",
    "show5(trainloader)"
   ]
  },
  {
   "cell_type": "code",
   "execution_count": 7,
   "metadata": {},
   "outputs": [
    {
     "data": {
      "image/png": "[encoded data removed]",
      "text/plain": [
       "<Figure size 640x480 with 1 Axes>"
      ]
     },
     "metadata": {},
     "output_type": "display_data"
    }
   ],
   "source": [
    "plt.imshow(testloader.dataset.data[0]);"
   ]
  },
  {
   "cell_type": "markdown",
   "metadata": {},
   "source": [
    "## Build your Neural Network\n",
    "Using the layers in `torch.nn` (which has been imported as `nn`) and the `torch.nn.functional` module (imported as `F`), construct a neural network based on the parameters of the dataset. \n",
    "Feel free to construct a model of any architecture – feedforward, convolutional, or even something more advanced!"
   ]
  },
  {
   "cell_type": "code",
   "execution_count": 8,
   "metadata": {},
   "outputs": [
    {
     "data": {
      "text/plain": [
       "Model(\n",
       "  (conv1): Conv2d(3, 32, kernel_size=(3, 3), stride=(1, 1))\n",
       "  (conv2): Conv2d(32, 64, kernel_size=(3, 3), stride=(1, 1))\n",
       "  (conv3): Conv2d(64, 128, kernel_size=(3, 3), stride=(1, 1))\n",
       "  (pool): MaxPool2d(kernel_size=2, stride=2, padding=0, dilation=1, ceil_mode=False)\n",
       "  (fc1): Linear(in_features=2048, out_features=64, bias=True)\n",
       "  (fc2): Linear(in_features=64, out_features=10, bias=True)\n",
       "  (flat): Flatten(start_dim=1, end_dim=-1)\n",
       "  (output): LogSoftmax(dim=1)\n",
       ")"
      ]
     },
     "execution_count": 8,
     "metadata": {},
     "output_type": "execute_result"
    }
   ],
   "source": [
    "class Model(nn.Module):\n",
    "    def __init__(self):\n",
    "        super(Model, self).__init__()\n",
    "        self.conv1 = nn.Conv2d(in_channels=3, out_channels=32, kernel_size=(3,3))\n",
    "        self.conv2 = nn.Conv2d(in_channels=32, out_channels=64, kernel_size=(3,3))\n",
    "        self.conv3 = nn.Conv2d(in_channels=64, out_channels=128, kernel_size=(3,3))\n",
    "        self.pool = nn.MaxPool2d(2,2)\n",
    "        self.fc1 = nn.Linear(in_features=8*8*32, out_features=64)\n",
    "        self.fc2 = nn.Linear(in_features=64, out_features=10)\n",
    "        self.flat = nn.Flatten()\n",
    "        self.output = nn.LogSoftmax(dim=1)\n",
    "\n",
    "    def forward(self, x):\n",
    "        x = F.relu(self.conv1(x))\n",
    "        x = self.pool(x)\n",
    "        x = F.relu(self.conv2(x))\n",
    "        x = self.pool(x)\n",
    "        x = F.relu(self.conv3(x))\n",
    "        x = self.flat(x)\n",
    "        x = F.relu(self.fc1(x))\n",
    "        x = F.relu(self.fc2(x))\n",
    "        x = self.output(x)\n",
    "        return x\n",
    "\n",
    "model = Model()\n",
    "\n",
    "device = torch.device('mps')\n",
    "model.to(device)"
   ]
  },
  {
   "cell_type": "markdown",
   "metadata": {},
   "source": [
    "Specify a loss function and an optimizer, and instantiate the model.\n",
    "\n",
    "If you use a less common loss function, please note why you chose that loss function in a comment."
   ]
  },
  {
   "cell_type": "code",
   "execution_count": 9,
   "metadata": {},
   "outputs": [],
   "source": [
    "criterion = nn.NLLLoss()\n",
    "optimizer = optim.Adam(params=model.parameters(), lr=0.002)"
   ]
  },
  {
   "cell_type": "markdown",
   "metadata": {},
   "source": [
    "## Running your Neural Network\n",
    "Use whatever method you like to train your neural network, and ensure you record the average loss at each epoch. \n",
    "Don't forget to use `torch.device()` and the `.to()` method for both your model and your data if you are using GPU!\n",
    "\n",
    "If you want to print your loss during each epoch, you can use the `enumerate` function and print the loss after a set number of batches. 250 batches works well for most people!"
   ]
  },
  {
   "cell_type": "code",
   "execution_count": 10,
   "metadata": {},
   "outputs": [
    {
     "name": "stdout",
     "output_type": "stream",
     "text": [
      "Epoch: 1/30.. Train loss: 0.009.. Test loss: 2.301.. Train accuracy: 0.105.. \n",
      "Epoch: 1/30.. Train loss: 2.201.. Test loss: 2.072.. Train accuracy: 0.269.. \n",
      "Epoch: 1/30.. Train loss: 4.270.. Test loss: 1.926.. Train accuracy: 0.337.. \n",
      "Epoch: 1/30.. Train loss: 6.158.. Test loss: 1.801.. Train accuracy: 0.382.. \n",
      "Epoch: 1/30.. Train loss: 7.973.. Test loss: 1.789.. Train accuracy: 0.392.. \n",
      "Epoch: 1/30.. Train loss: 9.754.. Test loss: 1.701.. Train accuracy: 0.416.. \n",
      "Epoch: 1/30.. Train loss: 11.503.. Test loss: 1.679.. Train accuracy: 0.429.. \n",
      "Epoch: 2/30.. Train loss: 0.007.. Test loss: 1.728.. Train accuracy: 0.414.. \n",
      "Epoch: 2/30.. Train loss: 1.706.. Test loss: 1.637.. Train accuracy: 0.454.. \n",
      "Epoch: 2/30.. Train loss: 3.373.. Test loss: 1.618.. Train accuracy: 0.456.. \n",
      "Epoch: 2/30.. Train loss: 5.037.. Test loss: 1.608.. Train accuracy: 0.461.. \n",
      "Epoch: 2/30.. Train loss: 6.703.. Test loss: 1.631.. Train accuracy: 0.466.. \n",
      "Epoch: 2/30.. Train loss: 8.327.. Test loss: 1.595.. Train accuracy: 0.461.. \n",
      "Epoch: 2/30.. Train loss: 9.888.. Test loss: 1.415.. Train accuracy: 0.512.. \n",
      "Epoch: 3/30.. Train loss: 0.005.. Test loss: 1.458.. Train accuracy: 0.503.. \n",
      "Epoch: 3/30.. Train loss: 1.452.. Test loss: 1.419.. Train accuracy: 0.511.. \n",
      "Epoch: 3/30.. Train loss: 2.877.. Test loss: 1.387.. Train accuracy: 0.522.. \n",
      "Epoch: 3/30.. Train loss: 4.301.. Test loss: 1.340.. Train accuracy: 0.536.. \n",
      "Epoch: 3/30.. Train loss: 5.717.. Test loss: 1.384.. Train accuracy: 0.523.. \n",
      "Epoch: 3/30.. Train loss: 7.125.. Test loss: 1.325.. Train accuracy: 0.539.. \n",
      "Epoch: 3/30.. Train loss: 8.530.. Test loss: 1.346.. Train accuracy: 0.530.. \n",
      "Epoch: 4/30.. Train loss: 0.006.. Test loss: 1.331.. Train accuracy: 0.538.. \n",
      "Epoch: 4/30.. Train loss: 1.347.. Test loss: 1.331.. Train accuracy: 0.539.. \n",
      "Epoch: 4/30.. Train loss: 2.693.. Test loss: 1.321.. Train accuracy: 0.548.. \n",
      "Epoch: 4/30.. Train loss: 4.011.. Test loss: 1.226.. Train accuracy: 0.591.. \n",
      "Epoch: 4/30.. Train loss: 5.273.. Test loss: 1.224.. Train accuracy: 0.584.. \n",
      "Epoch: 4/30.. Train loss: 6.514.. Test loss: 1.175.. Train accuracy: 0.593.. \n",
      "Epoch: 4/30.. Train loss: 7.741.. Test loss: 1.177.. Train accuracy: 0.598.. \n",
      "Epoch: 5/30.. Train loss: 0.004.. Test loss: 1.152.. Train accuracy: 0.604.. \n",
      "Epoch: 5/30.. Train loss: 1.205.. Test loss: 1.167.. Train accuracy: 0.596.. \n",
      "Epoch: 5/30.. Train loss: 2.399.. Test loss: 1.152.. Train accuracy: 0.604.. \n",
      "Epoch: 5/30.. Train loss: 3.546.. Test loss: 1.136.. Train accuracy: 0.609.. \n",
      "Epoch: 5/30.. Train loss: 4.709.. Test loss: 1.136.. Train accuracy: 0.604.. \n",
      "Epoch: 5/30.. Train loss: 5.874.. Test loss: 1.163.. Train accuracy: 0.601.. \n",
      "Epoch: 5/30.. Train loss: 7.036.. Test loss: 1.131.. Train accuracy: 0.614.. \n",
      "Epoch: 6/30.. Train loss: 0.004.. Test loss: 1.110.. Train accuracy: 0.616.. \n",
      "Epoch: 6/30.. Train loss: 1.127.. Test loss: 1.102.. Train accuracy: 0.613.. \n",
      "Epoch: 6/30.. Train loss: 2.259.. Test loss: 1.140.. Train accuracy: 0.606.. \n",
      "Epoch: 6/30.. Train loss: 3.377.. Test loss: 1.096.. Train accuracy: 0.619.. \n",
      "Epoch: 6/30.. Train loss: 4.494.. Test loss: 1.107.. Train accuracy: 0.624.. \n",
      "Epoch: 6/30.. Train loss: 5.631.. Test loss: 1.112.. Train accuracy: 0.614.. \n",
      "Epoch: 6/30.. Train loss: 6.758.. Test loss: 1.102.. Train accuracy: 0.622.. \n",
      "Epoch: 7/30.. Train loss: 0.004.. Test loss: 1.070.. Train accuracy: 0.634.. \n",
      "Epoch: 7/30.. Train loss: 1.078.. Test loss: 1.108.. Train accuracy: 0.619.. \n",
      "Epoch: 7/30.. Train loss: 2.162.. Test loss: 1.128.. Train accuracy: 0.617.. \n",
      "Epoch: 7/30.. Train loss: 3.255.. Test loss: 1.074.. Train accuracy: 0.629.. \n",
      "Epoch: 7/30.. Train loss: 4.341.. Test loss: 1.034.. Train accuracy: 0.672.. \n",
      "Epoch: 7/30.. Train loss: 5.281.. Test loss: 0.944.. Train accuracy: 0.678.. \n",
      "Epoch: 7/30.. Train loss: 6.203.. Test loss: 0.934.. Train accuracy: 0.685.. \n",
      "Epoch: 8/30.. Train loss: 0.003.. Test loss: 0.926.. Train accuracy: 0.686.. \n",
      "Epoch: 8/30.. Train loss: 0.882.. Test loss: 0.978.. Train accuracy: 0.668.. \n",
      "Epoch: 8/30.. Train loss: 1.766.. Test loss: 0.899.. Train accuracy: 0.691.. \n",
      "Epoch: 8/30.. Train loss: 2.639.. Test loss: 0.911.. Train accuracy: 0.693.. \n",
      "Epoch: 8/30.. Train loss: 3.531.. Test loss: 0.878.. Train accuracy: 0.701.. \n",
      "Epoch: 8/30.. Train loss: 4.426.. Test loss: 0.942.. Train accuracy: 0.680.. \n",
      "Epoch: 8/30.. Train loss: 5.309.. Test loss: 0.902.. Train accuracy: 0.697.. \n",
      "Epoch: 9/30.. Train loss: 0.002.. Test loss: 0.906.. Train accuracy: 0.696.. \n",
      "Epoch: 9/30.. Train loss: 0.848.. Test loss: 0.904.. Train accuracy: 0.698.. \n",
      "Epoch: 9/30.. Train loss: 1.675.. Test loss: 0.908.. Train accuracy: 0.701.. \n",
      "Epoch: 9/30.. Train loss: 2.518.. Test loss: 0.892.. Train accuracy: 0.696.. \n",
      "Epoch: 9/30.. Train loss: 3.374.. Test loss: 0.906.. Train accuracy: 0.695.. \n",
      "Epoch: 9/30.. Train loss: 4.227.. Test loss: 0.902.. Train accuracy: 0.693.. \n",
      "Epoch: 9/30.. Train loss: 5.078.. Test loss: 0.878.. Train accuracy: 0.697.. \n",
      "Epoch: 10/30.. Train loss: 0.004.. Test loss: 0.875.. Train accuracy: 0.707.. \n",
      "Epoch: 10/30.. Train loss: 0.783.. Test loss: 0.880.. Train accuracy: 0.704.. \n",
      "Epoch: 10/30.. Train loss: 1.612.. Test loss: 0.900.. Train accuracy: 0.701.. \n",
      "Epoch: 10/30.. Train loss: 2.439.. Test loss: 0.903.. Train accuracy: 0.700.. \n",
      "Epoch: 10/30.. Train loss: 3.271.. Test loss: 0.884.. Train accuracy: 0.702.. \n",
      "Epoch: 10/30.. Train loss: 4.114.. Test loss: 0.894.. Train accuracy: 0.703.. \n",
      "Epoch: 10/30.. Train loss: 4.946.. Test loss: 0.865.. Train accuracy: 0.712.. \n",
      "Epoch: 11/30.. Train loss: 0.003.. Test loss: 0.884.. Train accuracy: 0.708.. \n",
      "Epoch: 11/30.. Train loss: 0.771.. Test loss: 0.871.. Train accuracy: 0.713.. \n",
      "Epoch: 11/30.. Train loss: 1.565.. Test loss: 0.894.. Train accuracy: 0.704.. \n",
      "Epoch: 11/30.. Train loss: 2.379.. Test loss: 0.892.. Train accuracy: 0.701.. \n",
      "Epoch: 11/30.. Train loss: 3.206.. Test loss: 0.918.. Train accuracy: 0.695.. \n",
      "Epoch: 11/30.. Train loss: 4.014.. Test loss: 0.885.. Train accuracy: 0.704.. \n",
      "Epoch: 11/30.. Train loss: 4.835.. Test loss: 0.895.. Train accuracy: 0.708.. \n",
      "Epoch: 12/30.. Train loss: 0.002.. Test loss: 0.897.. Train accuracy: 0.706.. \n",
      "Epoch: 12/30.. Train loss: 0.757.. Test loss: 0.877.. Train accuracy: 0.711.. \n",
      "Epoch: 12/30.. Train loss: 1.530.. Test loss: 0.881.. Train accuracy: 0.705.. \n",
      "Epoch: 12/30.. Train loss: 2.319.. Test loss: 0.873.. Train accuracy: 0.712.. \n",
      "Epoch: 12/30.. Train loss: 3.107.. Test loss: 0.892.. Train accuracy: 0.699.. \n",
      "Epoch: 12/30.. Train loss: 3.929.. Test loss: 0.864.. Train accuracy: 0.709.. \n",
      "Epoch: 12/30.. Train loss: 4.714.. Test loss: 0.907.. Train accuracy: 0.704.. \n",
      "Epoch: 13/30.. Train loss: 0.004.. Test loss: 0.888.. Train accuracy: 0.700.. \n",
      "Epoch: 13/30.. Train loss: 0.741.. Test loss: 0.881.. Train accuracy: 0.701.. \n",
      "Epoch: 13/30.. Train loss: 1.499.. Test loss: 0.870.. Train accuracy: 0.712.. \n",
      "Epoch: 13/30.. Train loss: 2.263.. Test loss: 0.897.. Train accuracy: 0.700.. \n",
      "Epoch: 13/30.. Train loss: 3.020.. Test loss: 0.888.. Train accuracy: 0.706.. \n",
      "Epoch: 13/30.. Train loss: 3.809.. Test loss: 0.931.. Train accuracy: 0.696.. \n",
      "Epoch: 13/30.. Train loss: 4.599.. Test loss: 0.899.. Train accuracy: 0.705.. \n",
      "Epoch: 14/30.. Train loss: 0.004.. Test loss: 0.875.. Train accuracy: 0.704.. \n",
      "Epoch: 14/30.. Train loss: 0.721.. Test loss: 0.891.. Train accuracy: 0.707.. \n",
      "Epoch: 14/30.. Train loss: 1.473.. Test loss: 0.858.. Train accuracy: 0.715.. \n",
      "Epoch: 14/30.. Train loss: 2.232.. Test loss: 0.873.. Train accuracy: 0.703.. \n",
      "Epoch: 14/30.. Train loss: 2.974.. Test loss: 0.878.. Train accuracy: 0.717.. \n",
      "Epoch: 14/30.. Train loss: 3.735.. Test loss: 0.886.. Train accuracy: 0.708.. \n",
      "Epoch: 14/30.. Train loss: 4.491.. Test loss: 0.875.. Train accuracy: 0.714.. \n",
      "Epoch: 15/30.. Train loss: 0.002.. Test loss: 0.876.. Train accuracy: 0.713.. \n",
      "Epoch: 15/30.. Train loss: 0.704.. Test loss: 0.962.. Train accuracy: 0.689.. \n",
      "Epoch: 15/30.. Train loss: 1.429.. Test loss: 0.889.. Train accuracy: 0.713.. \n",
      "Epoch: 15/30.. Train loss: 2.168.. Test loss: 0.889.. Train accuracy: 0.713.. \n",
      "Epoch: 15/30.. Train loss: 2.915.. Test loss: 0.863.. Train accuracy: 0.711.. \n",
      "Epoch: 15/30.. Train loss: 3.668.. Test loss: 0.897.. Train accuracy: 0.708.. \n",
      "Epoch: 15/30.. Train loss: 4.425.. Test loss: 0.896.. Train accuracy: 0.703.. \n",
      "Epoch: 16/30.. Train loss: 0.003.. Test loss: 0.904.. Train accuracy: 0.706.. \n",
      "Epoch: 16/30.. Train loss: 0.694.. Test loss: 0.943.. Train accuracy: 0.709.. \n",
      "Epoch: 16/30.. Train loss: 1.406.. Test loss: 0.906.. Train accuracy: 0.713.. \n",
      "Epoch: 16/30.. Train loss: 2.124.. Test loss: 0.914.. Train accuracy: 0.711.. \n",
      "Epoch: 16/30.. Train loss: 2.856.. Test loss: 0.884.. Train accuracy: 0.713.. \n",
      "Epoch: 16/30.. Train loss: 3.598.. Test loss: 0.928.. Train accuracy: 0.706.. \n",
      "Epoch: 16/30.. Train loss: 4.346.. Test loss: 0.867.. Train accuracy: 0.717.. \n",
      "Epoch: 17/30.. Train loss: 0.003.. Test loss: 0.884.. Train accuracy: 0.716.. \n",
      "Epoch: 17/30.. Train loss: 0.683.. Test loss: 0.909.. Train accuracy: 0.705.. \n",
      "Epoch: 17/30.. Train loss: 1.380.. Test loss: 0.907.. Train accuracy: 0.717.. \n",
      "Epoch: 17/30.. Train loss: 2.086.. Test loss: 0.894.. Train accuracy: 0.713.. \n",
      "Epoch: 17/30.. Train loss: 2.820.. Test loss: 0.884.. Train accuracy: 0.712.. \n",
      "Epoch: 17/30.. Train loss: 3.548.. Test loss: 0.921.. Train accuracy: 0.710.. \n",
      "Epoch: 17/30.. Train loss: 4.276.. Test loss: 0.918.. Train accuracy: 0.706.. \n",
      "Epoch: 18/30.. Train loss: 0.003.. Test loss: 0.905.. Train accuracy: 0.719.. \n",
      "Epoch: 18/30.. Train loss: 0.684.. Test loss: 0.928.. Train accuracy: 0.715.. \n",
      "Epoch: 18/30.. Train loss: 1.379.. Test loss: 0.890.. Train accuracy: 0.719.. \n",
      "Epoch: 18/30.. Train loss: 2.094.. Test loss: 0.920.. Train accuracy: 0.712.. \n",
      "Epoch: 18/30.. Train loss: 2.813.. Test loss: 0.937.. Train accuracy: 0.708.. \n",
      "Epoch: 18/30.. Train loss: 3.512.. Test loss: 0.958.. Train accuracy: 0.705.. \n",
      "Epoch: 18/30.. Train loss: 4.239.. Test loss: 0.917.. Train accuracy: 0.706.. \n",
      "Epoch: 19/30.. Train loss: 0.001.. Test loss: 0.884.. Train accuracy: 0.715.. \n",
      "Epoch: 19/30.. Train loss: 0.654.. Test loss: 0.975.. Train accuracy: 0.713.. \n",
      "Epoch: 19/30.. Train loss: 1.340.. Test loss: 0.933.. Train accuracy: 0.711.. \n",
      "Epoch: 19/30.. Train loss: 2.027.. Test loss: 0.941.. Train accuracy: 0.713.. \n",
      "Epoch: 19/30.. Train loss: 2.727.. Test loss: 0.918.. Train accuracy: 0.712.. \n",
      "Epoch: 19/30.. Train loss: 3.434.. Test loss: 0.921.. Train accuracy: 0.712.. \n",
      "Epoch: 19/30.. Train loss: 4.134.. Test loss: 0.884.. Train accuracy: 0.716.. \n",
      "Epoch: 20/30.. Train loss: 0.003.. Test loss: 0.905.. Train accuracy: 0.714.. \n",
      "Epoch: 20/30.. Train loss: 0.658.. Test loss: 0.919.. Train accuracy: 0.716.. \n",
      "Epoch: 20/30.. Train loss: 1.333.. Test loss: 0.912.. Train accuracy: 0.716.. \n",
      "Epoch: 20/30.. Train loss: 2.007.. Test loss: 0.961.. Train accuracy: 0.703.. \n",
      "Epoch: 20/30.. Train loss: 2.708.. Test loss: 0.939.. Train accuracy: 0.710.. \n",
      "Epoch: 20/30.. Train loss: 3.430.. Test loss: 0.941.. Train accuracy: 0.709.. \n",
      "Epoch: 20/30.. Train loss: 4.121.. Test loss: 0.892.. Train accuracy: 0.718.. \n",
      "Epoch: 21/30.. Train loss: 0.003.. Test loss: 0.942.. Train accuracy: 0.711.. \n",
      "Epoch: 21/30.. Train loss: 0.652.. Test loss: 0.935.. Train accuracy: 0.709.. \n",
      "Epoch: 21/30.. Train loss: 1.309.. Test loss: 0.941.. Train accuracy: 0.701.. \n",
      "Epoch: 21/30.. Train loss: 1.999.. Test loss: 0.951.. Train accuracy: 0.711.. \n",
      "Epoch: 21/30.. Train loss: 2.672.. Test loss: 0.931.. Train accuracy: 0.715.. \n",
      "Epoch: 21/30.. Train loss: 3.359.. Test loss: 0.923.. Train accuracy: 0.709.. \n",
      "Epoch: 21/30.. Train loss: 4.060.. Test loss: 0.915.. Train accuracy: 0.710.. \n",
      "Epoch: 22/30.. Train loss: 0.003.. Test loss: 0.959.. Train accuracy: 0.717.. \n",
      "Epoch: 22/30.. Train loss: 0.655.. Test loss: 0.973.. Train accuracy: 0.703.. \n",
      "Epoch: 22/30.. Train loss: 1.295.. Test loss: 0.900.. Train accuracy: 0.715.. \n",
      "Epoch: 22/30.. Train loss: 1.976.. Test loss: 0.890.. Train accuracy: 0.721.. \n",
      "Epoch: 22/30.. Train loss: 2.663.. Test loss: 0.917.. Train accuracy: 0.717.. \n",
      "Epoch: 22/30.. Train loss: 3.356.. Test loss: 0.949.. Train accuracy: 0.710.. \n",
      "Epoch: 22/30.. Train loss: 4.050.. Test loss: 0.929.. Train accuracy: 0.703.. \n",
      "Epoch: 23/30.. Train loss: 0.003.. Test loss: 0.933.. Train accuracy: 0.710.. \n",
      "Epoch: 23/30.. Train loss: 0.631.. Test loss: 0.949.. Train accuracy: 0.717.. \n",
      "Epoch: 23/30.. Train loss: 1.261.. Test loss: 0.941.. Train accuracy: 0.718.. \n",
      "Epoch: 23/30.. Train loss: 1.941.. Test loss: 0.933.. Train accuracy: 0.719.. \n",
      "Epoch: 23/30.. Train loss: 2.599.. Test loss: 0.943.. Train accuracy: 0.714.. \n",
      "Epoch: 23/30.. Train loss: 3.274.. Test loss: 0.955.. Train accuracy: 0.712.. \n",
      "Epoch: 23/30.. Train loss: 3.957.. Test loss: 0.939.. Train accuracy: 0.707.. \n",
      "Epoch: 24/30.. Train loss: 0.003.. Test loss: 0.925.. Train accuracy: 0.715.. \n",
      "Epoch: 24/30.. Train loss: 0.619.. Test loss: 1.020.. Train accuracy: 0.710.. \n",
      "Epoch: 24/30.. Train loss: 1.279.. Test loss: 0.974.. Train accuracy: 0.709.. \n",
      "Epoch: 24/30.. Train loss: 1.956.. Test loss: 0.947.. Train accuracy: 0.709.. \n",
      "Epoch: 24/30.. Train loss: 2.616.. Test loss: 0.954.. Train accuracy: 0.711.. \n",
      "Epoch: 24/30.. Train loss: 3.301.. Test loss: 0.933.. Train accuracy: 0.713.. \n",
      "Epoch: 24/30.. Train loss: 3.970.. Test loss: 0.933.. Train accuracy: 0.714.. \n",
      "Epoch: 25/30.. Train loss: 0.002.. Test loss: 0.914.. Train accuracy: 0.721.. \n",
      "Epoch: 25/30.. Train loss: 0.621.. Test loss: 0.971.. Train accuracy: 0.713.. \n",
      "Epoch: 25/30.. Train loss: 1.261.. Test loss: 0.961.. Train accuracy: 0.708.. \n",
      "Epoch: 25/30.. Train loss: 1.942.. Test loss: 0.976.. Train accuracy: 0.704.. \n",
      "Epoch: 25/30.. Train loss: 2.578.. Test loss: 0.978.. Train accuracy: 0.714.. \n",
      "Epoch: 25/30.. Train loss: 3.233.. Test loss: 0.926.. Train accuracy: 0.720.. \n",
      "Epoch: 25/30.. Train loss: 3.902.. Test loss: 1.004.. Train accuracy: 0.694.. \n",
      "Epoch: 26/30.. Train loss: 0.002.. Test loss: 0.972.. Train accuracy: 0.710.. \n",
      "Epoch: 26/30.. Train loss: 0.604.. Test loss: 0.963.. Train accuracy: 0.713.. \n",
      "Epoch: 26/30.. Train loss: 1.242.. Test loss: 0.939.. Train accuracy: 0.718.. \n",
      "Epoch: 26/30.. Train loss: 1.873.. Test loss: 0.951.. Train accuracy: 0.714.. \n",
      "Epoch: 26/30.. Train loss: 2.520.. Test loss: 0.956.. Train accuracy: 0.711.. \n",
      "Epoch: 26/30.. Train loss: 3.195.. Test loss: 0.929.. Train accuracy: 0.717.. \n",
      "Epoch: 26/30.. Train loss: 3.844.. Test loss: 0.950.. Train accuracy: 0.712.. \n",
      "Epoch: 27/30.. Train loss: 0.003.. Test loss: 0.985.. Train accuracy: 0.705.. \n",
      "Epoch: 27/30.. Train loss: 0.615.. Test loss: 0.960.. Train accuracy: 0.717.. \n",
      "Epoch: 27/30.. Train loss: 1.235.. Test loss: 0.956.. Train accuracy: 0.712.. \n",
      "Epoch: 27/30.. Train loss: 1.871.. Test loss: 0.981.. Train accuracy: 0.714.. \n",
      "Epoch: 27/30.. Train loss: 2.522.. Test loss: 0.986.. Train accuracy: 0.703.. \n",
      "Epoch: 27/30.. Train loss: 3.170.. Test loss: 0.971.. Train accuracy: 0.711.. \n",
      "Epoch: 27/30.. Train loss: 3.830.. Test loss: 0.957.. Train accuracy: 0.713.. \n",
      "Epoch: 28/30.. Train loss: 0.003.. Test loss: 0.952.. Train accuracy: 0.713.. \n",
      "Epoch: 28/30.. Train loss: 0.591.. Test loss: 0.971.. Train accuracy: 0.721.. \n",
      "Epoch: 28/30.. Train loss: 1.204.. Test loss: 0.978.. Train accuracy: 0.712.. \n",
      "Epoch: 28/30.. Train loss: 1.832.. Test loss: 0.967.. Train accuracy: 0.712.. \n",
      "Epoch: 28/30.. Train loss: 2.479.. Test loss: 0.945.. Train accuracy: 0.719.. \n",
      "Epoch: 28/30.. Train loss: 3.117.. Test loss: 0.962.. Train accuracy: 0.714.. \n",
      "Epoch: 28/30.. Train loss: 3.770.. Test loss: 0.938.. Train accuracy: 0.718.. \n",
      "Epoch: 29/30.. Train loss: 0.002.. Test loss: 0.970.. Train accuracy: 0.706.. \n",
      "Epoch: 29/30.. Train loss: 0.589.. Test loss: 1.014.. Train accuracy: 0.714.. \n",
      "Epoch: 29/30.. Train loss: 1.205.. Test loss: 0.962.. Train accuracy: 0.717.. \n",
      "Epoch: 29/30.. Train loss: 1.804.. Test loss: 1.042.. Train accuracy: 0.703.. \n",
      "Epoch: 29/30.. Train loss: 2.448.. Test loss: 1.002.. Train accuracy: 0.714.. \n",
      "Epoch: 29/30.. Train loss: 3.091.. Test loss: 1.013.. Train accuracy: 0.702.. \n",
      "Epoch: 29/30.. Train loss: 3.738.. Test loss: 0.973.. Train accuracy: 0.718.. \n",
      "Epoch: 30/30.. Train loss: 0.002.. Test loss: 0.965.. Train accuracy: 0.720.. \n",
      "Epoch: 30/30.. Train loss: 0.583.. Test loss: 1.001.. Train accuracy: 0.719.. \n",
      "Epoch: 30/30.. Train loss: 1.187.. Test loss: 1.000.. Train accuracy: 0.707.. \n",
      "Epoch: 30/30.. Train loss: 1.789.. Test loss: 1.053.. Train accuracy: 0.710.. \n",
      "Epoch: 30/30.. Train loss: 2.399.. Test loss: 0.954.. Train accuracy: 0.720.. \n",
      "Epoch: 30/30.. Train loss: 3.030.. Test loss: 1.003.. Train accuracy: 0.710.. \n",
      "Epoch: 30/30.. Train loss: 3.663.. Test loss: 0.976.. Train accuracy: 0.715.. \n"
     ]
    }
   ],
   "source": [
    "epochs = 30\n",
    "print_every = 250\n",
    "train_losses = []\n",
    "\n",
    "for epoch in range(epochs):\n",
    "    running_loss = 0\n",
    "    for batch_num, (images, labels) in enumerate(trainloader):\n",
    "        \n",
    "        images, labels = images.to(device), labels.to(device)\n",
    "        \n",
    "        optimizer.zero_grad()\n",
    "        \n",
    "        logps = model(images)\n",
    "        loss = criterion(logps, labels)\n",
    "        loss.backward()\n",
    "        optimizer.step()\n",
    "        \n",
    "        running_loss += loss.item()\n",
    "\n",
    "        if batch_num % print_every == 0:\n",
    "            model.eval()\n",
    "            test_loss, accuracy = 0, 0\n",
    "            for images, labels in testloader:\n",
    "                images, labels = images.to(device), labels.to(device)\n",
    "                logps = model(images)\n",
    "                loss = criterion(logps, labels)\n",
    "                test_loss += loss.item()\n",
    "\n",
    "                ps = torch.exp(logps)\n",
    "                top_ps, top_class = ps.topk(1, dim=1)\n",
    "                equality = top_class == labels.view(*top_class.shape)\n",
    "                accuracy += torch.mean(equality.type(torch.FloatTensor)).item()\n",
    "\n",
    "            print(f'Epoch: {epoch+1}/{epochs}.. '\n",
    "                  f'Train loss: {running_loss/print_every:.3f}.. '\n",
    "                  f'Test loss: {test_loss/len(testloader):.3f}.. '\n",
    "                  f'Train accuracy: {accuracy/len(testloader):.3f}.. ')\n",
    "\n",
    "            model.train()\n",
    "\n",
    "    train_losses.append(running_loss/len(trainloader))"
   ]
  },
  {
   "cell_type": "markdown",
   "metadata": {},
   "source": [
    "Plot the training loss (and validation loss/accuracy, if recorded)."
   ]
  },
  {
   "cell_type": "code",
   "execution_count": 11,
   "metadata": {},
   "outputs": [
    {
     "data": {
      "image/png": "[encoded data removed]",
      "text/plain": [
       "<Figure size 640x480 with 1 Axes>"
      ]
     },
     "metadata": {},
     "output_type": "display_data"
    }
   ],
   "source": [
    "plt.plot(train_losses);"
   ]
  },
  {
   "cell_type": "markdown",
   "metadata": {},
   "source": [
    "## Testing your model\n",
    "Using the previously created `DataLoader` for the test set, compute the percentage of correct predictions using the highest probability prediction. \n",
    "\n",
    "If your accuracy is over 70%, great work! \n",
    "This is a hard task to exceed 70% on.\n",
    "\n",
    "If your accuracy is under 45%, you'll need to make improvements.\n",
    "Go back and check your model architecture, loss function, and optimizer to make sure they're appropriate for an image classification task."
   ]
  },
  {
   "cell_type": "code",
   "execution_count": 27,
   "metadata": {},
   "outputs": [
    {
     "name": "stdout",
     "output_type": "stream",
     "text": [
      "Test accuracy: 0.711\n"
     ]
    }
   ],
   "source": [
    "correct_predictions = 0\n",
    "for images, labels in testloader:\n",
    "    images, labels = images.to(device), labels.to(device)\n",
    "    logps = model(images)\n",
    "    ps = torch.exp(logps)\n",
    "    top_ps, top_class = ps.topk(1, dim=1)\n",
    "    equality = top_class == labels.view(*top_class.shape)\n",
    "    correct_predictions += torch.sum(equality.type(torch.FloatTensor)).item()\n",
    "\n",
    "print(f'Test accuracy: {correct_predictions/len(testloader.dataset.data):.3f}')"
   ]
  },
  {
   "cell_type": "markdown",
   "metadata": {},
   "source": [
    "## Saving your model\n",
    "Using `torch.save`, save your model for future loading."
   ]
  },
  {
   "cell_type": "code",
   "execution_count": 13,
   "metadata": {},
   "outputs": [],
   "source": [
    "torch.save(model, 'model.pt')"
   ]
  },
  {
   "cell_type": "markdown",
   "metadata": {},
   "source": [
    "## Make a Recommendation\n",
    "\n",
    "Based on your evaluation, what is your recommendation on whether to build or buy? Explain your reasoning below."
   ]
  },
  {
   "cell_type": "markdown",
   "metadata": {},
   "source": [
    "We were able to build a model that has an accuracy over 70%. Given that the top models available are so expensive to train, the results we've got in our much simpler model may be considered very good. Our model's perfomance can be further improved by using the transfer learning technique. Therefore, my recommendation is definitely to build the classification model in house."
   ]
  }
 ],
 "metadata": {
  "kernelspec": {
   "display_name": "Python 3 (ipykernel)",
   "language": "python",
   "name": "python3"
  },
  "language_info": {
   "codemirror_mode": {
    "name": "ipython",
    "version": 3
   },
   "file_extension": ".py",
   "mimetype": "text/x-python",
   "name": "python",
   "nbconvert_exporter": "python",
   "pygments_lexer": "ipython3",
   "version": "3.10.13"
  }
 },
 "nbformat": 4,
 "nbformat_minor": 4
}

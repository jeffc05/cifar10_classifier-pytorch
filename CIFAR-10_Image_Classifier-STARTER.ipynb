{
 "cells": [
  {
   "cell_type": "markdown",
   "metadata": {},
   "source": [
    "# Introduction\n",
    "\n",
    "In this project, you will build a neural network of your own design to evaluate the CIFAR-10 dataset.\n",
    "Our target accuracy is 70%, but any accuracy over 50% is a great start.\n",
    "Some of the benchmark results on CIFAR-10 include:\n",
    "\n",
    "78.9% Accuracy | [Deep Belief Networks; Krizhevsky, 2010](https://www.cs.toronto.edu/~kriz/conv-cifar10-aug2010.pdf)\n",
    "\n",
    "90.6% Accuracy | [Maxout Networks; Goodfellow et al., 2013](https://arxiv.org/pdf/1302.4389.pdf)\n",
    "\n",
    "96.0% Accuracy | [Wide Residual Networks; Zagoruyko et al., 2016](https://arxiv.org/pdf/1605.07146.pdf)\n",
    "\n",
    "99.0% Accuracy | [GPipe; Huang et al., 2018](https://arxiv.org/pdf/1811.06965.pdf)\n",
    "\n",
    "98.5% Accuracy | [Rethinking Recurrent Neural Networks and other Improvements for ImageClassification; Nguyen et al., 2020](https://arxiv.org/pdf/2007.15161.pdf)\n",
    "\n",
    "Research with this dataset is ongoing. Notably, many of these networks are quite large and quite expensive to train. \n",
    "\n",
    "## Imports"
   ]
  },
  {
   "cell_type": "code",
   "execution_count": 1,
   "metadata": {},
   "outputs": [],
   "source": [
    "## This cell contains the essential imports you will need – DO NOT CHANGE THE CONTENTS! ##\n",
    "import torch\n",
    "import torch.nn as nn\n",
    "import torch.nn.functional as F\n",
    "import torch.optim as optim\n",
    "import torchvision\n",
    "import torchvision.transforms as transforms\n",
    "import matplotlib.pyplot as plt\n",
    "import numpy as np"
   ]
  },
  {
   "cell_type": "markdown",
   "metadata": {},
   "source": [
    "## Load the Dataset\n",
    "\n",
    "Specify your transforms as a list first.\n",
    "The transforms module is already loaded as `transforms`.\n",
    "\n",
    "CIFAR-10 is fortunately included in the torchvision module.\n",
    "Then, you can create your dataset using the `CIFAR10` object from `torchvision.datasets` ([the documentation is available here](https://pytorch.org/docs/stable/torchvision/datasets.html#cifar)).\n",
    "Make sure to specify `download=True`! \n",
    "\n",
    "Once your dataset is created, you'll also need to define a `DataLoader` from the `torch.utils.data` module for both the train and the test set."
   ]
  },
  {
   "cell_type": "code",
   "execution_count": 2,
   "metadata": {},
   "outputs": [],
   "source": [
    "# Define transforms\n",
    "train_transfs = transforms.Compose((transforms.ToTensor(),\n",
    "                                    transforms.Normalize((0.5, 0.5, 0.5), (0.5, 0.5, 0.5)),\n",
    "                                    transforms.RandomErasing()))\n",
    "\n",
    "test_transfs = transforms.Compose((transforms.ToTensor(),\n",
    "                                   transforms.Normalize((0.5, 0.5, 0.5), (0.5, 0.5, 0.5))))\n",
    "\n",
    "\n",
    "# Create training set and define training dataloader\n",
    "trainset = torchvision.datasets.CIFAR10(root='./', train=True, transform=train_transfs)\n",
    "trainloader = torch.utils.data.DataLoader(dataset=trainset, batch_size=32, shuffle=True)\n",
    "\n",
    "# Create test set and define test dataloader\n",
    "testset = torchvision.datasets.CIFAR10(root='./', train=False, transform=test_transfs)\n",
    "testloader = torch.utils.data.DataLoader(dataset=testset, batch_size=32, shuffle=False)\n",
    "\n",
    "# The 10 classes in the dataset\n",
    "classes = ('plane', 'car', 'bird', 'cat', 'deer', 'dog', 'frog', 'horse', 'ship', 'truck')"
   ]
  },
  {
   "cell_type": "markdown",
   "metadata": {},
   "source": [
    "## Explore the Dataset\n",
    "Using matplotlib, numpy, and torch, explore the dimensions of your data.\n",
    "\n",
    "You can view images using the `show5` function defined below – it takes a data loader as an argument.\n",
    "Remember that normalized images will look really weird to you! You may want to try changing your transforms to view images.\n",
    "Typically using no transforms other than `toTensor()` works well for viewing – but not as well for training your network.\n",
    "If `show5` doesn't work, go back and check your code for creating your data loaders and your training/test sets."
   ]
  },
  {
   "cell_type": "code",
   "execution_count": 3,
   "metadata": {},
   "outputs": [],
   "source": [
    "def show5(img_loader):\n",
    "    dataiter = iter(img_loader)\n",
    "    \n",
    "    batch = next(dataiter)\n",
    "    labels = batch[1][0:5]\n",
    "    images = batch[0][0:5]\n",
    "    for i in range(5):\n",
    "        print(classes[labels[i]])\n",
    "    \n",
    "        image = images[i].numpy()\n",
    "        plt.imshow(image.T)\n",
    "        plt.show()"
   ]
  },
  {
   "cell_type": "code",
   "execution_count": 4,
   "metadata": {},
   "outputs": [
    {
     "name": "stdout",
     "output_type": "stream",
     "text": [
      "(50000, 32, 32, 3)\n",
      "(10000, 32, 32, 3)\n"
     ]
    }
   ],
   "source": [
    "print(trainloader.dataset.data.shape)\n",
    "print(testloader.dataset.data.shape)"
   ]
  },
  {
   "cell_type": "code",
   "execution_count": 5,
   "metadata": {},
   "outputs": [
    {
     "name": "stdout",
     "output_type": "stream",
     "text": [
      "Counter({6: 5000, 9: 5000, 4: 5000, 1: 5000, 2: 5000, 7: 5000, 8: 5000, 3: 5000, 5: 5000, 0: 5000})\n",
      "Counter({3: 1000, 8: 1000, 0: 1000, 6: 1000, 1: 1000, 9: 1000, 5: 1000, 7: 1000, 4: 1000, 2: 1000})\n"
     ]
    }
   ],
   "source": [
    "from collections import Counter\n",
    "\n",
    "print(Counter(trainloader.dataset.targets))\n",
    "print(Counter(testloader.dataset.targets))"
   ]
  },
  {
   "cell_type": "code",
   "execution_count": 6,
   "metadata": {},
   "outputs": [
    {
     "name": "stderr",
     "output_type": "stream",
     "text": [
      "Clipping input data to the valid range for imshow with RGB data ([0..1] for floats or [0..255] for integers).\n"
     ]
    },
    {
     "name": "stdout",
     "output_type": "stream",
     "text": [
      "dog\n"
     ]
    },
    {
     "data": {
      "image/png": "[encoded data removed]",
      "text/plain": [
       "<Figure size 640x480 with 1 Axes>"
      ]
     },
     "metadata": {},
     "output_type": "display_data"
    },
    {
     "name": "stderr",
     "output_type": "stream",
     "text": [
      "Clipping input data to the valid range for imshow with RGB data ([0..1] for floats or [0..255] for integers).\n"
     ]
    },
    {
     "name": "stdout",
     "output_type": "stream",
     "text": [
      "bird\n"
     ]
    },
    {
     "data": {
      "image/png": "[encoded data removed]",
      "text/plain": [
       "<Figure size 640x480 with 1 Axes>"
      ]
     },
     "metadata": {},
     "output_type": "display_data"
    },
    {
     "name": "stderr",
     "output_type": "stream",
     "text": [
      "Clipping input data to the valid range for imshow with RGB data ([0..1] for floats or [0..255] for integers).\n"
     ]
    },
    {
     "name": "stdout",
     "output_type": "stream",
     "text": [
      "ship\n"
     ]
    },
    {
     "data": {
      "image/png": "[encoded data removed]",
      "text/plain": [
       "<Figure size 640x480 with 1 Axes>"
      ]
     },
     "metadata": {},
     "output_type": "display_data"
    },
    {
     "name": "stderr",
     "output_type": "stream",
     "text": [
      "Clipping input data to the valid range for imshow with RGB data ([0..1] for floats or [0..255] for integers).\n"
     ]
    },
    {
     "name": "stdout",
     "output_type": "stream",
     "text": [
      "ship\n"
     ]
    },
    {
     "data": {
      "image/png": "[encoded data removed]",
      "text/plain": [
       "<Figure size 640x480 with 1 Axes>"
      ]
     },
     "metadata": {},
     "output_type": "display_data"
    },
    {
     "name": "stderr",
     "output_type": "stream",
     "text": [
      "Clipping input data to the valid range for imshow with RGB data ([0..1] for floats or [0..255] for integers).\n"
     ]
    },
    {
     "name": "stdout",
     "output_type": "stream",
     "text": [
      "dog\n"
     ]
    },
    {
     "data": {
      "image/png": "[encoded data removed]",
      "text/plain": [
       "<Figure size 640x480 with 1 Axes>"
      ]
     },
     "metadata": {},
     "output_type": "display_data"
    }
   ],
   "source": [
    "# Explore data\n",
    "show5(trainloader)"
   ]
  },
  {
   "cell_type": "code",
   "execution_count": 7,
   "metadata": {},
   "outputs": [
    {
     "data": {
      "image/png": "[encoded data removed]",
      "text/plain": [
       "<Figure size 640x480 with 1 Axes>"
      ]
     },
     "metadata": {},
     "output_type": "display_data"
    }
   ],
   "source": [
    "plt.imshow(testloader.dataset.data[0]);"
   ]
  },
  {
   "cell_type": "markdown",
   "metadata": {},
   "source": [
    "## Build your Neural Network\n",
    "Using the layers in `torch.nn` (which has been imported as `nn`) and the `torch.nn.functional` module (imported as `F`), construct a neural network based on the parameters of the dataset. \n",
    "Feel free to construct a model of any architecture – feedforward, convolutional, or even something more advanced!"
   ]
  },
  {
   "cell_type": "code",
   "execution_count": 8,
   "metadata": {},
   "outputs": [
    {
     "data": {
      "text/plain": [
       "Model(\n",
       "  (conv1): Conv2d(3, 32, kernel_size=(3, 3), stride=(1, 1))\n",
       "  (conv2): Conv2d(32, 64, kernel_size=(3, 3), stride=(1, 1))\n",
       "  (conv3): Conv2d(64, 128, kernel_size=(3, 3), stride=(1, 1))\n",
       "  (pool): MaxPool2d(kernel_size=2, stride=2, padding=0, dilation=1, ceil_mode=False)\n",
       "  (fc1): Linear(in_features=2048, out_features=64, bias=True)\n",
       "  (fc2): Linear(in_features=64, out_features=10, bias=True)\n",
       "  (flat): Flatten(start_dim=1, end_dim=-1)\n",
       "  (output): LogSoftmax(dim=1)\n",
       ")"
      ]
     },
     "execution_count": 8,
     "metadata": {},
     "output_type": "execute_result"
    }
   ],
   "source": [
    "class Model(nn.Module):\n",
    "    def __init__(self):\n",
    "        super(Model, self).__init__()\n",
    "        self.conv1 = nn.Conv2d(in_channels=3, out_channels=32, kernel_size=(3,3))\n",
    "        self.conv2 = nn.Conv2d(in_channels=32, out_channels=64, kernel_size=(3,3))\n",
    "        self.conv3 = nn.Conv2d(in_channels=64, out_channels=128, kernel_size=(3,3))\n",
    "        self.pool = nn.MaxPool2d(2,2)\n",
    "        self.fc1 = nn.Linear(in_features=8*8*32, out_features=64)\n",
    "        self.fc2 = nn.Linear(in_features=64, out_features=10)\n",
    "        self.flat = nn.Flatten()\n",
    "        self.output = nn.LogSoftmax(dim=1)\n",
    "\n",
    "    def forward(self, x):\n",
    "        x = F.relu(self.conv1(x))\n",
    "        x = self.pool(x)\n",
    "        x = F.relu(self.conv2(x))\n",
    "        x = self.pool(x)\n",
    "        x = F.relu(self.conv3(x))\n",
    "        x = self.flat(x)\n",
    "        x = F.relu(self.fc1(x))\n",
    "        x = F.relu(self.fc2(x))\n",
    "        x = self.output(x)\n",
    "        return x\n",
    "\n",
    "model = Model()\n",
    "\n",
    "device = torch.device('mps')\n",
    "model.to(device)"
   ]
  },
  {
   "cell_type": "markdown",
   "metadata": {},
   "source": [
    "Specify a loss function and an optimizer, and instantiate the model.\n",
    "\n",
    "If you use a less common loss function, please note why you chose that loss function in a comment."
   ]
  },
  {
   "cell_type": "code",
   "execution_count": 9,
   "metadata": {},
   "outputs": [],
   "source": [
    "criterion = nn.NLLLoss()\n",
    "optimizer = optim.Adam(params=model.parameters(), lr=0.002)"
   ]
  },
  {
   "cell_type": "markdown",
   "metadata": {},
   "source": [
    "## Running your Neural Network\n",
    "Use whatever method you like to train your neural network, and ensure you record the average loss at each epoch. \n",
    "Don't forget to use `torch.device()` and the `.to()` method for both your model and your data if you are using GPU!\n",
    "\n",
    "If you want to print your loss during each epoch, you can use the `enumerate` function and print the loss after a set number of batches. 250 batches works well for most people!"
   ]
  },
  {
   "cell_type": "code",
   "execution_count": 10,
   "metadata": {},
   "outputs": [
    {
     "name": "stdout",
     "output_type": "stream",
     "text": [
      "Epoch: 1/30.. Train loss: 0.009.. Train accuracy: 0.001\n",
      "Epoch: 1/30.. Train loss: 2.209.. Train accuracy: 0.187\n",
      "Epoch: 1/30.. Train loss: 2.073.. Train accuracy: 0.255\n",
      "Epoch: 1/30.. Train loss: 1.934.. Train accuracy: 0.325\n",
      "Epoch: 1/30.. Train loss: 1.878.. Train accuracy: 0.352\n",
      "Epoch: 1/30.. Train loss: 1.845.. Train accuracy: 0.360\n",
      "Epoch: 1/30.. Train loss: 1.781.. Train accuracy: 0.393\n",
      "Epoch: 2/30.. Train loss: 0.451.. Train accuracy: 0.100\n",
      "Epoch: 2/30.. Train loss: 1.763.. Train accuracy: 0.402\n",
      "Epoch: 2/30.. Train loss: 1.748.. Train accuracy: 0.412\n",
      "Epoch: 2/30.. Train loss: 1.712.. Train accuracy: 0.426\n",
      "Epoch: 2/30.. Train loss: 1.677.. Train accuracy: 0.420\n",
      "Epoch: 2/30.. Train loss: 1.619.. Train accuracy: 0.440\n",
      "Epoch: 2/30.. Train loss: 1.583.. Train accuracy: 0.449\n",
      "Epoch: 3/30.. Train loss: 0.395.. Train accuracy: 0.116\n",
      "Epoch: 3/30.. Train loss: 1.568.. Train accuracy: 0.464\n",
      "Epoch: 3/30.. Train loss: 1.538.. Train accuracy: 0.467\n",
      "Epoch: 3/30.. Train loss: 1.510.. Train accuracy: 0.481\n",
      "Epoch: 3/30.. Train loss: 1.511.. Train accuracy: 0.476\n",
      "Epoch: 3/30.. Train loss: 1.488.. Train accuracy: 0.481\n",
      "Epoch: 3/30.. Train loss: 1.494.. Train accuracy: 0.492\n",
      "Epoch: 4/30.. Train loss: 0.379.. Train accuracy: 0.120\n",
      "Epoch: 4/30.. Train loss: 1.445.. Train accuracy: 0.497\n",
      "Epoch: 4/30.. Train loss: 1.440.. Train accuracy: 0.501\n",
      "Epoch: 4/30.. Train loss: 1.432.. Train accuracy: 0.511\n",
      "Epoch: 4/30.. Train loss: 1.447.. Train accuracy: 0.501\n",
      "Epoch: 4/30.. Train loss: 1.405.. Train accuracy: 0.504\n",
      "Epoch: 4/30.. Train loss: 1.441.. Train accuracy: 0.498\n",
      "Epoch: 5/30.. Train loss: 0.357.. Train accuracy: 0.128\n",
      "Epoch: 5/30.. Train loss: 1.391.. Train accuracy: 0.517\n",
      "Epoch: 5/30.. Train loss: 1.391.. Train accuracy: 0.516\n",
      "Epoch: 5/30.. Train loss: 1.402.. Train accuracy: 0.510\n",
      "Epoch: 5/30.. Train loss: 1.400.. Train accuracy: 0.517\n",
      "Epoch: 5/30.. Train loss: 1.361.. Train accuracy: 0.523\n",
      "Epoch: 5/30.. Train loss: 1.263.. Train accuracy: 0.570\n",
      "Epoch: 6/30.. Train loss: 0.317.. Train accuracy: 0.142\n",
      "Epoch: 6/30.. Train loss: 1.203.. Train accuracy: 0.581\n",
      "Epoch: 6/30.. Train loss: 1.200.. Train accuracy: 0.579\n",
      "Epoch: 6/30.. Train loss: 1.175.. Train accuracy: 0.590\n",
      "Epoch: 6/30.. Train loss: 1.186.. Train accuracy: 0.594\n",
      "Epoch: 6/30.. Train loss: 1.200.. Train accuracy: 0.579\n",
      "Epoch: 6/30.. Train loss: 1.175.. Train accuracy: 0.587\n",
      "Epoch: 7/30.. Train loss: 0.309.. Train accuracy: 0.148\n",
      "Epoch: 7/30.. Train loss: 1.121.. Train accuracy: 0.606\n",
      "Epoch: 7/30.. Train loss: 1.152.. Train accuracy: 0.604\n",
      "Epoch: 7/30.. Train loss: 1.157.. Train accuracy: 0.600\n",
      "Epoch: 7/30.. Train loss: 1.075.. Train accuracy: 0.637\n",
      "Epoch: 7/30.. Train loss: 0.976.. Train accuracy: 0.670\n",
      "Epoch: 7/30.. Train loss: 0.993.. Train accuracy: 0.654\n",
      "Epoch: 8/30.. Train loss: 0.243.. Train accuracy: 0.169\n",
      "Epoch: 8/30.. Train loss: 0.955.. Train accuracy: 0.674\n",
      "Epoch: 8/30.. Train loss: 0.962.. Train accuracy: 0.667\n",
      "Epoch: 8/30.. Train loss: 0.945.. Train accuracy: 0.678\n",
      "Epoch: 8/30.. Train loss: 0.933.. Train accuracy: 0.675\n",
      "Epoch: 8/30.. Train loss: 0.926.. Train accuracy: 0.683\n",
      "Epoch: 8/30.. Train loss: 0.976.. Train accuracy: 0.670\n",
      "Epoch: 9/30.. Train loss: 0.237.. Train accuracy: 0.169\n",
      "Epoch: 9/30.. Train loss: 0.890.. Train accuracy: 0.696\n",
      "Epoch: 9/30.. Train loss: 0.900.. Train accuracy: 0.691\n",
      "Epoch: 9/30.. Train loss: 0.913.. Train accuracy: 0.686\n",
      "Epoch: 9/30.. Train loss: 0.899.. Train accuracy: 0.688\n",
      "Epoch: 9/30.. Train loss: 0.921.. Train accuracy: 0.681\n",
      "Epoch: 9/30.. Train loss: 0.919.. Train accuracy: 0.679\n",
      "Epoch: 10/30.. Train loss: 0.240.. Train accuracy: 0.170\n",
      "Epoch: 10/30.. Train loss: 0.855.. Train accuracy: 0.706\n",
      "Epoch: 10/30.. Train loss: 0.882.. Train accuracy: 0.689\n",
      "Epoch: 10/30.. Train loss: 0.900.. Train accuracy: 0.689\n",
      "Epoch: 10/30.. Train loss: 0.886.. Train accuracy: 0.691\n",
      "Epoch: 10/30.. Train loss: 0.887.. Train accuracy: 0.690\n",
      "Epoch: 10/30.. Train loss: 0.906.. Train accuracy: 0.683\n",
      "Epoch: 11/30.. Train loss: 0.219.. Train accuracy: 0.177\n",
      "Epoch: 11/30.. Train loss: 0.844.. Train accuracy: 0.709\n",
      "Epoch: 11/30.. Train loss: 0.855.. Train accuracy: 0.705\n",
      "Epoch: 11/30.. Train loss: 0.851.. Train accuracy: 0.700\n",
      "Epoch: 11/30.. Train loss: 0.881.. Train accuracy: 0.696\n",
      "Epoch: 11/30.. Train loss: 0.868.. Train accuracy: 0.698\n",
      "Epoch: 11/30.. Train loss: 0.875.. Train accuracy: 0.698\n",
      "Epoch: 12/30.. Train loss: 0.215.. Train accuracy: 0.177\n",
      "Epoch: 12/30.. Train loss: 0.812.. Train accuracy: 0.717\n",
      "Epoch: 12/30.. Train loss: 0.846.. Train accuracy: 0.705\n",
      "Epoch: 12/30.. Train loss: 0.841.. Train accuracy: 0.704\n",
      "Epoch: 12/30.. Train loss: 0.852.. Train accuracy: 0.698\n",
      "Epoch: 12/30.. Train loss: 0.864.. Train accuracy: 0.695\n",
      "Epoch: 12/30.. Train loss: 0.877.. Train accuracy: 0.692\n",
      "Epoch: 13/30.. Train loss: 0.224.. Train accuracy: 0.177\n",
      "Epoch: 13/30.. Train loss: 0.807.. Train accuracy: 0.719\n",
      "Epoch: 13/30.. Train loss: 0.836.. Train accuracy: 0.710\n",
      "Epoch: 13/30.. Train loss: 0.839.. Train accuracy: 0.712\n",
      "Epoch: 13/30.. Train loss: 0.825.. Train accuracy: 0.715\n",
      "Epoch: 13/30.. Train loss: 0.844.. Train accuracy: 0.713\n",
      "Epoch: 13/30.. Train loss: 0.841.. Train accuracy: 0.713\n",
      "Epoch: 14/30.. Train loss: 0.211.. Train accuracy: 0.177\n",
      "Epoch: 14/30.. Train loss: 0.787.. Train accuracy: 0.727\n",
      "Epoch: 14/30.. Train loss: 0.820.. Train accuracy: 0.711\n",
      "Epoch: 14/30.. Train loss: 0.795.. Train accuracy: 0.727\n",
      "Epoch: 14/30.. Train loss: 0.835.. Train accuracy: 0.703\n",
      "Epoch: 14/30.. Train loss: 0.839.. Train accuracy: 0.706\n",
      "Epoch: 14/30.. Train loss: 0.821.. Train accuracy: 0.713\n",
      "Epoch: 15/30.. Train loss: 0.205.. Train accuracy: 0.178\n",
      "Epoch: 15/30.. Train loss: 0.782.. Train accuracy: 0.726\n",
      "Epoch: 15/30.. Train loss: 0.784.. Train accuracy: 0.727\n",
      "Epoch: 15/30.. Train loss: 0.805.. Train accuracy: 0.722\n",
      "Epoch: 15/30.. Train loss: 0.807.. Train accuracy: 0.717\n",
      "Epoch: 15/30.. Train loss: 0.800.. Train accuracy: 0.719\n",
      "Epoch: 15/30.. Train loss: 0.811.. Train accuracy: 0.724\n",
      "Epoch: 16/30.. Train loss: 0.209.. Train accuracy: 0.180\n",
      "Epoch: 16/30.. Train loss: 0.757.. Train accuracy: 0.737\n",
      "Epoch: 16/30.. Train loss: 0.757.. Train accuracy: 0.740\n",
      "Epoch: 16/30.. Train loss: 0.816.. Train accuracy: 0.716\n",
      "Epoch: 16/30.. Train loss: 0.819.. Train accuracy: 0.714\n",
      "Epoch: 16/30.. Train loss: 0.794.. Train accuracy: 0.725\n",
      "Epoch: 16/30.. Train loss: 0.804.. Train accuracy: 0.723\n",
      "Epoch: 17/30.. Train loss: 0.209.. Train accuracy: 0.180\n",
      "Epoch: 17/30.. Train loss: 0.767.. Train accuracy: 0.735\n",
      "Epoch: 17/30.. Train loss: 0.770.. Train accuracy: 0.732\n",
      "Epoch: 17/30.. Train loss: 0.782.. Train accuracy: 0.727\n",
      "Epoch: 17/30.. Train loss: 0.770.. Train accuracy: 0.723\n",
      "Epoch: 17/30.. Train loss: 0.796.. Train accuracy: 0.726\n",
      "Epoch: 17/30.. Train loss: 0.783.. Train accuracy: 0.727\n",
      "Epoch: 18/30.. Train loss: 0.190.. Train accuracy: 0.187\n",
      "Epoch: 18/30.. Train loss: 0.739.. Train accuracy: 0.737\n",
      "Epoch: 18/30.. Train loss: 0.788.. Train accuracy: 0.731\n",
      "Epoch: 18/30.. Train loss: 0.784.. Train accuracy: 0.733\n",
      "Epoch: 18/30.. Train loss: 0.784.. Train accuracy: 0.723\n",
      "Epoch: 18/30.. Train loss: 0.765.. Train accuracy: 0.737\n",
      "Epoch: 18/30.. Train loss: 0.765.. Train accuracy: 0.734\n",
      "Epoch: 19/30.. Train loss: 0.201.. Train accuracy: 0.182\n",
      "Epoch: 19/30.. Train loss: 0.730.. Train accuracy: 0.749\n",
      "Epoch: 19/30.. Train loss: 0.759.. Train accuracy: 0.739\n",
      "Epoch: 19/30.. Train loss: 0.773.. Train accuracy: 0.726\n",
      "Epoch: 19/30.. Train loss: 0.772.. Train accuracy: 0.736\n",
      "Epoch: 19/30.. Train loss: 0.789.. Train accuracy: 0.729\n",
      "Epoch: 19/30.. Train loss: 0.745.. Train accuracy: 0.739\n",
      "Epoch: 20/30.. Train loss: 0.209.. Train accuracy: 0.179\n",
      "Epoch: 20/30.. Train loss: 0.737.. Train accuracy: 0.742\n",
      "Epoch: 20/30.. Train loss: 0.732.. Train accuracy: 0.744\n",
      "Epoch: 20/30.. Train loss: 0.737.. Train accuracy: 0.749\n",
      "Epoch: 20/30.. Train loss: 0.766.. Train accuracy: 0.736\n",
      "Epoch: 20/30.. Train loss: 0.786.. Train accuracy: 0.730\n",
      "Epoch: 20/30.. Train loss: 0.771.. Train accuracy: 0.734\n",
      "Epoch: 21/30.. Train loss: 0.197.. Train accuracy: 0.180\n",
      "Epoch: 21/30.. Train loss: 0.718.. Train accuracy: 0.747\n",
      "Epoch: 21/30.. Train loss: 0.724.. Train accuracy: 0.756\n",
      "Epoch: 21/30.. Train loss: 0.745.. Train accuracy: 0.743\n",
      "Epoch: 21/30.. Train loss: 0.734.. Train accuracy: 0.741\n",
      "Epoch: 21/30.. Train loss: 0.741.. Train accuracy: 0.739\n",
      "Epoch: 21/30.. Train loss: 0.787.. Train accuracy: 0.727\n",
      "Epoch: 22/30.. Train loss: 0.190.. Train accuracy: 0.187\n",
      "Epoch: 22/30.. Train loss: 0.722.. Train accuracy: 0.750\n",
      "Epoch: 22/30.. Train loss: 0.718.. Train accuracy: 0.750\n",
      "Epoch: 22/30.. Train loss: 0.743.. Train accuracy: 0.737\n",
      "Epoch: 22/30.. Train loss: 0.744.. Train accuracy: 0.743\n",
      "Epoch: 22/30.. Train loss: 0.755.. Train accuracy: 0.736\n",
      "Epoch: 22/30.. Train loss: 0.757.. Train accuracy: 0.738\n",
      "Epoch: 23/30.. Train loss: 0.192.. Train accuracy: 0.186\n",
      "Epoch: 23/30.. Train loss: 0.701.. Train accuracy: 0.758\n",
      "Epoch: 23/30.. Train loss: 0.731.. Train accuracy: 0.747\n",
      "Epoch: 23/30.. Train loss: 0.713.. Train accuracy: 0.748\n",
      "Epoch: 23/30.. Train loss: 0.746.. Train accuracy: 0.739\n",
      "Epoch: 23/30.. Train loss: 0.739.. Train accuracy: 0.747\n",
      "Epoch: 23/30.. Train loss: 0.763.. Train accuracy: 0.735\n",
      "Epoch: 24/30.. Train loss: 0.181.. Train accuracy: 0.190\n",
      "Epoch: 24/30.. Train loss: 0.710.. Train accuracy: 0.753\n",
      "Epoch: 24/30.. Train loss: 0.717.. Train accuracy: 0.752\n",
      "Epoch: 24/30.. Train loss: 0.717.. Train accuracy: 0.754\n",
      "Epoch: 24/30.. Train loss: 0.728.. Train accuracy: 0.746\n",
      "Epoch: 24/30.. Train loss: 0.728.. Train accuracy: 0.752\n",
      "Epoch: 24/30.. Train loss: 0.745.. Train accuracy: 0.742\n",
      "Epoch: 25/30.. Train loss: 0.195.. Train accuracy: 0.185\n",
      "Epoch: 25/30.. Train loss: 0.694.. Train accuracy: 0.765\n",
      "Epoch: 25/30.. Train loss: 0.720.. Train accuracy: 0.750\n",
      "Epoch: 25/30.. Train loss: 0.720.. Train accuracy: 0.751\n",
      "Epoch: 25/30.. Train loss: 0.715.. Train accuracy: 0.748\n",
      "Epoch: 25/30.. Train loss: 0.739.. Train accuracy: 0.747\n",
      "Epoch: 25/30.. Train loss: 0.730.. Train accuracy: 0.747\n",
      "Epoch: 26/30.. Train loss: 0.197.. Train accuracy: 0.184\n",
      "Epoch: 26/30.. Train loss: 0.679.. Train accuracy: 0.771\n",
      "Epoch: 26/30.. Train loss: 0.709.. Train accuracy: 0.755\n",
      "Epoch: 26/30.. Train loss: 0.724.. Train accuracy: 0.752\n",
      "Epoch: 26/30.. Train loss: 0.724.. Train accuracy: 0.748\n",
      "Epoch: 26/30.. Train loss: 0.714.. Train accuracy: 0.752\n",
      "Epoch: 26/30.. Train loss: 0.737.. Train accuracy: 0.750\n",
      "Epoch: 27/30.. Train loss: 0.182.. Train accuracy: 0.186\n",
      "Epoch: 27/30.. Train loss: 0.692.. Train accuracy: 0.758\n",
      "Epoch: 27/30.. Train loss: 0.706.. Train accuracy: 0.757\n",
      "Epoch: 27/30.. Train loss: 0.719.. Train accuracy: 0.754\n",
      "Epoch: 27/30.. Train loss: 0.714.. Train accuracy: 0.757\n",
      "Epoch: 27/30.. Train loss: 0.702.. Train accuracy: 0.756\n",
      "Epoch: 27/30.. Train loss: 0.719.. Train accuracy: 0.752\n",
      "Epoch: 28/30.. Train loss: 0.177.. Train accuracy: 0.193\n",
      "Epoch: 28/30.. Train loss: 0.681.. Train accuracy: 0.767\n",
      "Epoch: 28/30.. Train loss: 0.685.. Train accuracy: 0.759\n",
      "Epoch: 28/30.. Train loss: 0.712.. Train accuracy: 0.757\n",
      "Epoch: 28/30.. Train loss: 0.716.. Train accuracy: 0.752\n",
      "Epoch: 28/30.. Train loss: 0.699.. Train accuracy: 0.758\n",
      "Epoch: 28/30.. Train loss: 0.714.. Train accuracy: 0.752\n",
      "Epoch: 29/30.. Train loss: 0.192.. Train accuracy: 0.188\n",
      "Epoch: 29/30.. Train loss: 0.678.. Train accuracy: 0.767\n",
      "Epoch: 29/30.. Train loss: 0.698.. Train accuracy: 0.757\n",
      "Epoch: 29/30.. Train loss: 0.690.. Train accuracy: 0.759\n",
      "Epoch: 29/30.. Train loss: 0.704.. Train accuracy: 0.754\n",
      "Epoch: 29/30.. Train loss: 0.734.. Train accuracy: 0.750\n",
      "Epoch: 29/30.. Train loss: 0.709.. Train accuracy: 0.759\n",
      "Epoch: 30/30.. Train loss: 0.187.. Train accuracy: 0.188\n",
      "Epoch: 30/30.. Train loss: 0.670.. Train accuracy: 0.769\n",
      "Epoch: 30/30.. Train loss: 0.693.. Train accuracy: 0.760\n",
      "Epoch: 30/30.. Train loss: 0.691.. Train accuracy: 0.756\n",
      "Epoch: 30/30.. Train loss: 0.700.. Train accuracy: 0.756\n",
      "Epoch: 30/30.. Train loss: 0.712.. Train accuracy: 0.755\n",
      "Epoch: 30/30.. Train loss: 0.721.. Train accuracy: 0.745\n"
     ]
    }
   ],
   "source": [
    "epochs = 30\n",
    "print_every = 250\n",
    "train_losses = []\n",
    "running_loss, correct_predictions = 0, 0\n",
    "\n",
    "for epoch in range(epochs):\n",
    "    for batch_num, (images, labels) in enumerate(trainloader):\n",
    "        \n",
    "        images, labels = images.to(device), labels.to(device)\n",
    "        \n",
    "        optimizer.zero_grad()\n",
    "        \n",
    "        logps = model(images)\n",
    "        loss = criterion(logps, labels)\n",
    "        loss.backward()\n",
    "        optimizer.step()\n",
    "        \n",
    "        running_loss += loss.item()\n",
    "\n",
    "        ps = torch.exp(logps)\n",
    "        top_ps, top_class = ps.topk(1, dim=1)\n",
    "        equality = top_class == labels.view(*top_class.shape)\n",
    "        correct_predictions += torch.mean(equality.type(torch.FloatTensor)).item()\n",
    "\n",
    "        if batch_num % print_every == 0:\n",
    "            print(f'Epoch: {epoch+1}/{epochs}.. '\n",
    "                  f'Train loss: {running_loss/print_every:.3f}.. '\n",
    "                  f'Train accuracy: {correct_predictions/print_every:.3f}')\n",
    "            running_loss, correct_predictions = 0, 0\n",
    "\n",
    "    train_losses.append(running_loss/len(trainloader.dataset.data))"
   ]
  },
  {
   "cell_type": "markdown",
   "metadata": {},
   "source": [
    "Plot the training loss (and validation loss/accuracy, if recorded)."
   ]
  },
  {
   "cell_type": "code",
   "execution_count": 11,
   "metadata": {},
   "outputs": [
    {
     "data": {
      "image/png": "[encoded data removed]",
      "text/plain": [
       "<Figure size 640x480 with 1 Axes>"
      ]
     },
     "metadata": {},
     "output_type": "display_data"
    }
   ],
   "source": [
    "plt.plot(train_losses)\n",
    "plt.xlabel('Epochs')\n",
    "plt.ylabel('Train Loss');"
   ]
  },
  {
   "cell_type": "markdown",
   "metadata": {},
   "source": [
    "## Testing your model\n",
    "Using the previously created `DataLoader` for the test set, compute the percentage of correct predictions using the highest probability prediction. \n",
    "\n",
    "If your accuracy is over 70%, great work! \n",
    "This is a hard task to exceed 70% on.\n",
    "\n",
    "If your accuracy is under 45%, you'll need to make improvements.\n",
    "Go back and check your model architecture, loss function, and optimizer to make sure they're appropriate for an image classification task."
   ]
  },
  {
   "cell_type": "code",
   "execution_count": 12,
   "metadata": {},
   "outputs": [
    {
     "name": "stdout",
     "output_type": "stream",
     "text": [
      "Test accuracy: 0.711\n"
     ]
    }
   ],
   "source": [
    "correct_predictions = 0\n",
    "for images, labels in testloader:\n",
    "    images, labels = images.to(device), labels.to(device)\n",
    "    logps = model(images)\n",
    "    ps = torch.exp(logps)\n",
    "    top_ps, top_class = ps.topk(1, dim=1)\n",
    "    equality = top_class == labels.view(*top_class.shape)\n",
    "    correct_predictions += torch.sum(equality.type(torch.FloatTensor)).item()\n",
    "\n",
    "print(f'Test accuracy: {correct_predictions/len(testloader.dataset.data):.3f}')"
   ]
  },
  {
   "cell_type": "markdown",
   "metadata": {},
   "source": [
    "## Saving your model\n",
    "Using `torch.save`, save your model for future loading."
   ]
  },
  {
   "cell_type": "code",
   "execution_count": 13,
   "metadata": {},
   "outputs": [],
   "source": [
    "torch.save(model, 'model.pt')"
   ]
  },
  {
   "cell_type": "markdown",
   "metadata": {},
   "source": [
    "## Make a Recommendation\n",
    "\n",
    "Based on your evaluation, what is your recommendation on whether to build or buy? Explain your reasoning below."
   ]
  },
  {
   "cell_type": "markdown",
   "metadata": {},
   "source": [
    "We were able to build a model that has an accuracy over 70%. Given that the top models available are so expensive to train, the results we've got in our much simpler model may be considered very good. Our model's perfomance can be further improved by using the transfer learning technique. Therefore, my recommendation is definitely to build the classification model in house. Maybe we could use transfer learning with our model composing the final layers of the nueral network."
   ]
  },
  {
   "cell_type": "code",
   "execution_count": null,
   "metadata": {},
   "outputs": [],
   "source": []
  }
 ],
 "metadata": {
  "kernelspec": {
   "display_name": "Python 3 (ipykernel)",
   "language": "python",
   "name": "python3"
  },
  "language_info": {
   "codemirror_mode": {
    "name": "ipython",
    "version": 3
   },
   "file_extension": ".py",
   "mimetype": "text/x-python",
   "name": "python",
   "nbconvert_exporter": "python",
   "pygments_lexer": "ipython3",
   "version": "3.10.13"
  }
 },
 "nbformat": 4,
 "nbformat_minor": 4
}

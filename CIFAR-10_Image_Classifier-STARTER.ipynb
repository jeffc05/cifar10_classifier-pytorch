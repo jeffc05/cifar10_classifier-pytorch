{
 "cells": [
  {
   "cell_type": "markdown",
   "metadata": {},
   "source": [
    "# Introduction\n",
    "\n",
    "In this project, you will build a neural network of your own design to evaluate the CIFAR-10 dataset.\n",
    "Our target accuracy is 70%, but any accuracy over 50% is a great start.\n",
    "Some of the benchmark results on CIFAR-10 include:\n",
    "\n",
    "78.9% Accuracy | [Deep Belief Networks; Krizhevsky, 2010](https://www.cs.toronto.edu/~kriz/conv-cifar10-aug2010.pdf)\n",
    "\n",
    "90.6% Accuracy | [Maxout Networks; Goodfellow et al., 2013](https://arxiv.org/pdf/1302.4389.pdf)\n",
    "\n",
    "96.0% Accuracy | [Wide Residual Networks; Zagoruyko et al., 2016](https://arxiv.org/pdf/1605.07146.pdf)\n",
    "\n",
    "99.0% Accuracy | [GPipe; Huang et al., 2018](https://arxiv.org/pdf/1811.06965.pdf)\n",
    "\n",
    "98.5% Accuracy | [Rethinking Recurrent Neural Networks and other Improvements for ImageClassification; Nguyen et al., 2020](https://arxiv.org/pdf/2007.15161.pdf)\n",
    "\n",
    "Research with this dataset is ongoing. Notably, many of these networks are quite large and quite expensive to train. \n",
    "\n",
    "## Imports"
   ]
  },
  {
   "cell_type": "code",
   "execution_count": 1,
   "metadata": {},
   "outputs": [],
   "source": [
    "## This cell contains the essential imports you will need – DO NOT CHANGE THE CONTENTS! ##\n",
    "import torch\n",
    "import torch.nn as nn\n",
    "import torch.nn.functional as F\n",
    "import torch.optim as optim\n",
    "import torchvision\n",
    "import torchvision.transforms as transforms\n",
    "import matplotlib.pyplot as plt\n",
    "import numpy as np"
   ]
  },
  {
   "cell_type": "markdown",
   "metadata": {},
   "source": [
    "## Load the Dataset\n",
    "\n",
    "Specify your transforms as a list first.\n",
    "The transforms module is already loaded as `transforms`.\n",
    "\n",
    "CIFAR-10 is fortunately included in the torchvision module.\n",
    "Then, you can create your dataset using the `CIFAR10` object from `torchvision.datasets` ([the documentation is available here](https://pytorch.org/docs/stable/torchvision/datasets.html#cifar)).\n",
    "Make sure to specify `download=True`! \n",
    "\n",
    "Once your dataset is created, you'll also need to define a `DataLoader` from the `torch.utils.data` module for both the train and the test set."
   ]
  },
  {
   "cell_type": "code",
   "execution_count": 2,
   "metadata": {},
   "outputs": [],
   "source": [
    "# Define transforms\n",
    "train_transfs = transforms.Compose((transforms.ToTensor(),\n",
    "                                    transforms.Normalize((0.5, 0.5, 0.5), (0.5, 0.5, 0.5)),\n",
    "                                    transforms.RandomErasing()))\n",
    "\n",
    "test_transfs = transforms.Compose((transforms.ToTensor(),\n",
    "                                   transforms.Normalize((0.5, 0.5, 0.5), (0.5, 0.5, 0.5))))\n",
    "\n",
    "\n",
    "# Create training set and define training dataloader\n",
    "trainset = torchvision.datasets.CIFAR10(root='./', train=True, transform=train_transfs)\n",
    "trainloader = torch.utils.data.DataLoader(dataset=trainset, batch_size=32, shuffle=True)\n",
    "\n",
    "# Create test set and define test dataloader\n",
    "testset = torchvision.datasets.CIFAR10(root='./', train=False, transform=test_transfs)\n",
    "testloader = torch.utils.data.DataLoader(dataset=testset, batch_size=32, shuffle=False)\n",
    "\n",
    "# The 10 classes in the dataset\n",
    "classes = ('plane', 'car', 'bird', 'cat', 'deer', 'dog', 'frog', 'horse', 'ship', 'truck')"
   ]
  },
  {
   "cell_type": "markdown",
   "metadata": {},
   "source": [
    "## Explore the Dataset\n",
    "Using matplotlib, numpy, and torch, explore the dimensions of your data.\n",
    "\n",
    "You can view images using the `show5` function defined below – it takes a data loader as an argument.\n",
    "Remember that normalized images will look really weird to you! You may want to try changing your transforms to view images.\n",
    "Typically using no transforms other than `toTensor()` works well for viewing – but not as well for training your network.\n",
    "If `show5` doesn't work, go back and check your code for creating your data loaders and your training/test sets."
   ]
  },
  {
   "cell_type": "code",
   "execution_count": 3,
   "metadata": {},
   "outputs": [],
   "source": [
    "def show5(img_loader):\n",
    "    dataiter = iter(img_loader)\n",
    "    \n",
    "    batch = next(dataiter)\n",
    "    labels = batch[1][0:5]\n",
    "    images = batch[0][0:5]\n",
    "    for i in range(5):\n",
    "        print(classes[labels[i]])\n",
    "    \n",
    "        image = images[i].numpy()\n",
    "        plt.imshow(image.T)\n",
    "        plt.show()"
   ]
  },
  {
   "cell_type": "code",
   "execution_count": 4,
   "metadata": {},
   "outputs": [
    {
     "name": "stdout",
     "output_type": "stream",
     "text": [
      "(50000, 32, 32, 3)\n",
      "(10000, 32, 32, 3)\n"
     ]
    }
   ],
   "source": [
    "print(trainloader.dataset.data.shape)\n",
    "print(testloader.dataset.data.shape)"
   ]
  },
  {
   "cell_type": "code",
   "execution_count": 5,
   "metadata": {},
   "outputs": [
    {
     "name": "stdout",
     "output_type": "stream",
     "text": [
      "Counter({6: 5000, 9: 5000, 4: 5000, 1: 5000, 2: 5000, 7: 5000, 8: 5000, 3: 5000, 5: 5000, 0: 5000})\n",
      "Counter({3: 1000, 8: 1000, 0: 1000, 6: 1000, 1: 1000, 9: 1000, 5: 1000, 7: 1000, 4: 1000, 2: 1000})\n"
     ]
    }
   ],
   "source": [
    "from collections import Counter\n",
    "\n",
    "print(Counter(trainloader.dataset.targets))\n",
    "print(Counter(testloader.dataset.targets))"
   ]
  },
  {
   "cell_type": "code",
   "execution_count": 6,
   "metadata": {},
   "outputs": [
    {
     "name": "stderr",
     "output_type": "stream",
     "text": [
      "Clipping input data to the valid range for imshow with RGB data ([0..1] for floats or [0..255] for integers).\n"
     ]
    },
    {
     "name": "stdout",
     "output_type": "stream",
     "text": [
      "deer\n"
     ]
    },
    {
     "data": {
      "image/png": "[encoded data removed]",
      "text/plain": [
       "<Figure size 640x480 with 1 Axes>"
      ]
     },
     "metadata": {},
     "output_type": "display_data"
    },
    {
     "name": "stderr",
     "output_type": "stream",
     "text": [
      "Clipping input data to the valid range for imshow with RGB data ([0..1] for floats or [0..255] for integers).\n"
     ]
    },
    {
     "name": "stdout",
     "output_type": "stream",
     "text": [
      "dog\n"
     ]
    },
    {
     "data": {
      "image/png": "[encoded data removed]",
      "text/plain": [
       "<Figure size 640x480 with 1 Axes>"
      ]
     },
     "metadata": {},
     "output_type": "display_data"
    },
    {
     "name": "stderr",
     "output_type": "stream",
     "text": [
      "Clipping input data to the valid range for imshow with RGB data ([0..1] for floats or [0..255] for integers).\n"
     ]
    },
    {
     "name": "stdout",
     "output_type": "stream",
     "text": [
      "horse\n"
     ]
    },
    {
     "data": {
      "image/png": "[encoded data removed]",
      "text/plain": [
       "<Figure size 640x480 with 1 Axes>"
      ]
     },
     "metadata": {},
     "output_type": "display_data"
    },
    {
     "name": "stderr",
     "output_type": "stream",
     "text": [
      "Clipping input data to the valid range for imshow with RGB data ([0..1] for floats or [0..255] for integers).\n"
     ]
    },
    {
     "name": "stdout",
     "output_type": "stream",
     "text": [
      "deer\n"
     ]
    },
    {
     "data": {
      "image/png": "[encoded data removed]",
      "text/plain": [
       "<Figure size 640x480 with 1 Axes>"
      ]
     },
     "metadata": {},
     "output_type": "display_data"
    },
    {
     "name": "stderr",
     "output_type": "stream",
     "text": [
      "Clipping input data to the valid range for imshow with RGB data ([0..1] for floats or [0..255] for integers).\n"
     ]
    },
    {
     "name": "stdout",
     "output_type": "stream",
     "text": [
      "truck\n"
     ]
    },
    {
     "data": {
      "image/png": "[encoded data removed]",
      "text/plain": [
       "<Figure size 640x480 with 1 Axes>"
      ]
     },
     "metadata": {},
     "output_type": "display_data"
    }
   ],
   "source": [
    "# Explore data\n",
    "show5(trainloader)"
   ]
  },
  {
   "cell_type": "code",
   "execution_count": 7,
   "metadata": {},
   "outputs": [
    {
     "data": {
      "image/png": "[encoded data removed]",
      "text/plain": [
       "<Figure size 640x480 with 1 Axes>"
      ]
     },
     "metadata": {},
     "output_type": "display_data"
    }
   ],
   "source": [
    "plt.imshow(testloader.dataset.data[0]);"
   ]
  },
  {
   "cell_type": "markdown",
   "metadata": {},
   "source": [
    "## Build your Neural Network\n",
    "Using the layers in `torch.nn` (which has been imported as `nn`) and the `torch.nn.functional` module (imported as `F`), construct a neural network based on the parameters of the dataset. \n",
    "Feel free to construct a model of any architecture – feedforward, convolutional, or even something more advanced!"
   ]
  },
  {
   "cell_type": "code",
   "execution_count": 8,
   "metadata": {},
   "outputs": [
    {
     "data": {
      "text/plain": [
       "Model(\n",
       "  (conv1): Conv2d(3, 32, kernel_size=(3, 3), stride=(1, 1))\n",
       "  (conv2): Conv2d(32, 64, kernel_size=(3, 3), stride=(1, 1))\n",
       "  (conv3): Conv2d(64, 128, kernel_size=(3, 3), stride=(1, 1))\n",
       "  (pool): MaxPool2d(kernel_size=2, stride=2, padding=0, dilation=1, ceil_mode=False)\n",
       "  (fc1): Linear(in_features=2048, out_features=64, bias=True)\n",
       "  (fc2): Linear(in_features=64, out_features=10, bias=True)\n",
       "  (flat): Flatten(start_dim=1, end_dim=-1)\n",
       "  (output): LogSoftmax(dim=1)\n",
       ")"
      ]
     },
     "execution_count": 8,
     "metadata": {},
     "output_type": "execute_result"
    }
   ],
   "source": [
    "class Model(nn.Module):\n",
    "    def __init__(self):\n",
    "        super(Model, self).__init__()\n",
    "        self.conv1 = nn.Conv2d(in_channels=3, out_channels=32, kernel_size=(3,3))\n",
    "        self.conv2 = nn.Conv2d(in_channels=32, out_channels=64, kernel_size=(3,3))\n",
    "        self.conv3 = nn.Conv2d(in_channels=64, out_channels=128, kernel_size=(3,3))\n",
    "        self.pool = nn.MaxPool2d(2,2)\n",
    "        self.fc1 = nn.Linear(in_features=8*8*32, out_features=64)\n",
    "        self.fc2 = nn.Linear(in_features=64, out_features=10)\n",
    "        self.flat = nn.Flatten()\n",
    "        self.output = nn.LogSoftmax(dim=1)\n",
    "\n",
    "    def forward(self, x):\n",
    "        x = F.relu(self.conv1(x))\n",
    "        x = self.pool(x)\n",
    "        x = F.relu(self.conv2(x))\n",
    "        x = self.pool(x)\n",
    "        x = F.relu(self.conv3(x))\n",
    "        x = self.flat(x)\n",
    "        x = F.relu(self.fc1(x))\n",
    "        x = F.relu(self.fc2(x))\n",
    "        x = self.output(x)\n",
    "        return x\n",
    "\n",
    "model = Model()\n",
    "\n",
    "device = torch.device('mps')\n",
    "model.to(device)"
   ]
  },
  {
   "cell_type": "markdown",
   "metadata": {},
   "source": [
    "Specify a loss function and an optimizer, and instantiate the model.\n",
    "\n",
    "If you use a less common loss function, please note why you chose that loss function in a comment."
   ]
  },
  {
   "cell_type": "code",
   "execution_count": 9,
   "metadata": {},
   "outputs": [],
   "source": [
    "criterion = nn.NLLLoss()\n",
    "optimizer = optim.Adam(params=model.parameters(), lr=0.002)"
   ]
  },
  {
   "cell_type": "markdown",
   "metadata": {},
   "source": [
    "## Running your Neural Network\n",
    "Use whatever method you like to train your neural network, and ensure you record the average loss at each epoch. \n",
    "Don't forget to use `torch.device()` and the `.to()` method for both your model and your data if you are using GPU!\n",
    "\n",
    "If you want to print your loss during each epoch, you can use the `enumerate` function and print the loss after a set number of batches. 250 batches works well for most people!"
   ]
  },
  {
   "cell_type": "code",
   "execution_count": 10,
   "metadata": {},
   "outputs": [
    {
     "name": "stdout",
     "output_type": "stream",
     "text": [
      "Epoch: 1/50.. Train loss: 0.009.. Test loss: 2.300..Train accuracy: 0.103..\n",
      "Epoch: 1/50.. Train loss: 2.097.. Test loss: 1.876..Train accuracy: 0.336..\n",
      "Epoch: 1/50.. Train loss: 3.928.. Test loss: 1.713..Train accuracy: 0.375..\n",
      "Epoch: 1/50.. Train loss: 5.620.. Test loss: 1.612..Train accuracy: 0.425..\n",
      "Epoch: 1/50.. Train loss: 7.272.. Test loss: 1.598..Train accuracy: 0.432..\n",
      "Epoch: 1/50.. Train loss: 8.895.. Test loss: 1.497..Train accuracy: 0.467..\n",
      "Epoch: 1/50.. Train loss: 10.444.. Test loss: 1.488..Train accuracy: 0.473..\n",
      "Epoch: 2/50.. Train loss: 0.006.. Test loss: 1.473..Train accuracy: 0.472..\n",
      "Epoch: 2/50.. Train loss: 1.491.. Test loss: 1.415..Train accuracy: 0.498..\n",
      "Epoch: 2/50.. Train loss: 2.961.. Test loss: 1.390..Train accuracy: 0.518..\n",
      "Epoch: 2/50.. Train loss: 4.328.. Test loss: 1.259..Train accuracy: 0.551..\n",
      "Epoch: 2/50.. Train loss: 5.623.. Test loss: 1.213..Train accuracy: 0.574..\n",
      "Epoch: 2/50.. Train loss: 6.885.. Test loss: 1.154..Train accuracy: 0.594..\n",
      "Epoch: 2/50.. Train loss: 8.100.. Test loss: 1.111..Train accuracy: 0.604..\n",
      "Epoch: 3/50.. Train loss: 0.006.. Test loss: 1.157..Train accuracy: 0.590..\n",
      "Epoch: 3/50.. Train loss: 1.194.. Test loss: 1.087..Train accuracy: 0.620..\n",
      "Epoch: 3/50.. Train loss: 2.351.. Test loss: 1.073..Train accuracy: 0.624..\n",
      "Epoch: 3/50.. Train loss: 3.489.. Test loss: 1.062..Train accuracy: 0.625..\n",
      "Epoch: 3/50.. Train loss: 4.628.. Test loss: 1.063..Train accuracy: 0.626..\n",
      "Epoch: 3/50.. Train loss: 5.747.. Test loss: 1.025..Train accuracy: 0.639..\n",
      "Epoch: 3/50.. Train loss: 6.875.. Test loss: 1.011..Train accuracy: 0.646..\n",
      "Epoch: 4/50.. Train loss: 0.003.. Test loss: 1.013..Train accuracy: 0.639..\n",
      "Epoch: 4/50.. Train loss: 1.051.. Test loss: 1.042..Train accuracy: 0.631..\n",
      "Epoch: 4/50.. Train loss: 2.119.. Test loss: 0.981..Train accuracy: 0.652..\n",
      "Epoch: 4/50.. Train loss: 3.177.. Test loss: 1.035..Train accuracy: 0.639..\n",
      "Epoch: 4/50.. Train loss: 4.240.. Test loss: 1.020..Train accuracy: 0.643..\n",
      "Epoch: 4/50.. Train loss: 5.305.. Test loss: 0.991..Train accuracy: 0.656..\n",
      "Epoch: 4/50.. Train loss: 6.358.. Test loss: 1.131..Train accuracy: 0.612..\n",
      "Epoch: 5/50.. Train loss: 0.003.. Test loss: 1.047..Train accuracy: 0.632..\n",
      "Epoch: 5/50.. Train loss: 1.006.. Test loss: 0.984..Train accuracy: 0.657..\n",
      "Epoch: 5/50.. Train loss: 2.022.. Test loss: 0.945..Train accuracy: 0.670..\n",
      "Epoch: 5/50.. Train loss: 3.020.. Test loss: 0.973..Train accuracy: 0.664..\n",
      "Epoch: 5/50.. Train loss: 4.023.. Test loss: 0.993..Train accuracy: 0.659..\n",
      "Epoch: 5/50.. Train loss: 5.034.. Test loss: 0.974..Train accuracy: 0.662..\n",
      "Epoch: 5/50.. Train loss: 6.025.. Test loss: 0.963..Train accuracy: 0.670..\n",
      "Epoch: 6/50.. Train loss: 0.003.. Test loss: 0.929..Train accuracy: 0.678..\n",
      "Epoch: 6/50.. Train loss: 0.948.. Test loss: 0.941..Train accuracy: 0.678..\n",
      "Epoch: 6/50.. Train loss: 1.898.. Test loss: 0.969..Train accuracy: 0.667..\n",
      "Epoch: 6/50.. Train loss: 2.875.. Test loss: 0.957..Train accuracy: 0.670..\n",
      "Epoch: 6/50.. Train loss: 3.852.. Test loss: 0.963..Train accuracy: 0.666..\n",
      "Epoch: 6/50.. Train loss: 4.801.. Test loss: 0.944..Train accuracy: 0.673..\n",
      "Epoch: 6/50.. Train loss: 5.770.. Test loss: 0.917..Train accuracy: 0.679..\n",
      "Epoch: 7/50.. Train loss: 0.003.. Test loss: 0.925..Train accuracy: 0.683..\n",
      "Epoch: 7/50.. Train loss: 0.909.. Test loss: 0.952..Train accuracy: 0.677..\n",
      "Epoch: 7/50.. Train loss: 1.823.. Test loss: 0.931..Train accuracy: 0.682..\n",
      "Epoch: 7/50.. Train loss: 2.741.. Test loss: 0.919..Train accuracy: 0.677..\n",
      "Epoch: 7/50.. Train loss: 3.656.. Test loss: 0.935..Train accuracy: 0.682..\n",
      "Epoch: 7/50.. Train loss: 4.593.. Test loss: 0.951..Train accuracy: 0.671..\n",
      "Epoch: 7/50.. Train loss: 5.528.. Test loss: 0.895..Train accuracy: 0.689..\n",
      "Epoch: 8/50.. Train loss: 0.003.. Test loss: 0.958..Train accuracy: 0.672..\n",
      "Epoch: 8/50.. Train loss: 0.887.. Test loss: 0.941..Train accuracy: 0.683..\n",
      "Epoch: 8/50.. Train loss: 1.779.. Test loss: 0.919..Train accuracy: 0.685..\n",
      "Epoch: 8/50.. Train loss: 2.680.. Test loss: 0.952..Train accuracy: 0.677..\n",
      "Epoch: 8/50.. Train loss: 3.578.. Test loss: 0.949..Train accuracy: 0.676..\n",
      "Epoch: 8/50.. Train loss: 4.502.. Test loss: 0.927..Train accuracy: 0.677..\n",
      "Epoch: 8/50.. Train loss: 5.404.. Test loss: 0.891..Train accuracy: 0.696..\n",
      "Epoch: 9/50.. Train loss: 0.004.. Test loss: 0.912..Train accuracy: 0.684..\n",
      "Epoch: 9/50.. Train loss: 0.866.. Test loss: 0.941..Train accuracy: 0.679..\n",
      "Epoch: 9/50.. Train loss: 1.742.. Test loss: 0.929..Train accuracy: 0.682..\n",
      "Epoch: 9/50.. Train loss: 2.607.. Test loss: 0.900..Train accuracy: 0.693..\n",
      "Epoch: 9/50.. Train loss: 3.492.. Test loss: 0.896..Train accuracy: 0.695..\n",
      "Epoch: 9/50.. Train loss: 4.393.. Test loss: 0.881..Train accuracy: 0.697..\n",
      "Epoch: 9/50.. Train loss: 5.267.. Test loss: 0.899..Train accuracy: 0.700..\n",
      "Epoch: 10/50.. Train loss: 0.004.. Test loss: 0.894..Train accuracy: 0.696..\n",
      "Epoch: 10/50.. Train loss: 0.834.. Test loss: 0.919..Train accuracy: 0.688..\n",
      "Epoch: 10/50.. Train loss: 1.696.. Test loss: 0.946..Train accuracy: 0.685..\n",
      "Epoch: 10/50.. Train loss: 2.575.. Test loss: 0.893..Train accuracy: 0.702..\n",
      "Epoch: 10/50.. Train loss: 3.444.. Test loss: 0.901..Train accuracy: 0.688..\n",
      "Epoch: 10/50.. Train loss: 4.299.. Test loss: 0.885..Train accuracy: 0.702..\n",
      "Epoch: 10/50.. Train loss: 5.170.. Test loss: 0.891..Train accuracy: 0.695..\n",
      "Epoch: 11/50.. Train loss: 0.003.. Test loss: 0.893..Train accuracy: 0.698..\n",
      "Epoch: 11/50.. Train loss: 0.812.. Test loss: 0.912..Train accuracy: 0.693..\n",
      "Epoch: 11/50.. Train loss: 1.617.. Test loss: 0.919..Train accuracy: 0.690..\n",
      "Epoch: 11/50.. Train loss: 2.460.. Test loss: 0.888..Train accuracy: 0.701..\n",
      "Epoch: 11/50.. Train loss: 3.295.. Test loss: 0.909..Train accuracy: 0.697..\n",
      "Epoch: 11/50.. Train loss: 4.150.. Test loss: 0.917..Train accuracy: 0.685..\n",
      "Epoch: 11/50.. Train loss: 5.018.. Test loss: 0.875..Train accuracy: 0.700..\n",
      "Epoch: 12/50.. Train loss: 0.003.. Test loss: 0.896..Train accuracy: 0.695..\n",
      "Epoch: 12/50.. Train loss: 0.807.. Test loss: 0.882..Train accuracy: 0.706..\n",
      "Epoch: 12/50.. Train loss: 1.614.. Test loss: 0.945..Train accuracy: 0.684..\n",
      "Epoch: 12/50.. Train loss: 2.445.. Test loss: 0.890..Train accuracy: 0.697..\n",
      "Epoch: 12/50.. Train loss: 3.278.. Test loss: 0.916..Train accuracy: 0.695..\n",
      "Epoch: 12/50.. Train loss: 4.118.. Test loss: 0.882..Train accuracy: 0.699..\n",
      "Epoch: 12/50.. Train loss: 4.972.. Test loss: 0.924..Train accuracy: 0.690..\n",
      "Epoch: 13/50.. Train loss: 0.002.. Test loss: 0.872..Train accuracy: 0.702..\n",
      "Epoch: 13/50.. Train loss: 0.797.. Test loss: 0.910..Train accuracy: 0.699..\n",
      "Epoch: 13/50.. Train loss: 1.588.. Test loss: 0.918..Train accuracy: 0.695..\n",
      "Epoch: 13/50.. Train loss: 2.409.. Test loss: 0.933..Train accuracy: 0.690..\n",
      "Epoch: 13/50.. Train loss: 3.233.. Test loss: 0.869..Train accuracy: 0.709..\n",
      "Epoch: 13/50.. Train loss: 4.050.. Test loss: 0.893..Train accuracy: 0.704..\n",
      "Epoch: 13/50.. Train loss: 4.852.. Test loss: 0.890..Train accuracy: 0.697..\n",
      "Epoch: 14/50.. Train loss: 0.004.. Test loss: 0.874..Train accuracy: 0.709..\n",
      "Epoch: 14/50.. Train loss: 0.792.. Test loss: 0.882..Train accuracy: 0.712..\n",
      "Epoch: 14/50.. Train loss: 1.576.. Test loss: 0.907..Train accuracy: 0.700..\n",
      "Epoch: 14/50.. Train loss: 2.376.. Test loss: 0.869..Train accuracy: 0.712..\n",
      "Epoch: 14/50.. Train loss: 3.163.. Test loss: 0.879..Train accuracy: 0.704..\n",
      "Epoch: 14/50.. Train loss: 3.961.. Test loss: 0.880..Train accuracy: 0.703..\n",
      "Epoch: 14/50.. Train loss: 4.779.. Test loss: 0.885..Train accuracy: 0.700..\n",
      "Epoch: 15/50.. Train loss: 0.004.. Test loss: 0.874..Train accuracy: 0.706..\n",
      "Epoch: 15/50.. Train loss: 0.782.. Test loss: 0.874..Train accuracy: 0.707..\n",
      "Epoch: 15/50.. Train loss: 1.567.. Test loss: 0.891..Train accuracy: 0.706..\n",
      "Epoch: 15/50.. Train loss: 2.347.. Test loss: 0.898..Train accuracy: 0.703..\n",
      "Epoch: 15/50.. Train loss: 3.108.. Test loss: 0.890..Train accuracy: 0.698..\n",
      "Epoch: 15/50.. Train loss: 3.891.. Test loss: 0.870..Train accuracy: 0.709..\n",
      "Epoch: 15/50.. Train loss: 4.717.. Test loss: 0.918..Train accuracy: 0.692..\n",
      "Epoch: 16/50.. Train loss: 0.003.. Test loss: 0.903..Train accuracy: 0.706..\n",
      "Epoch: 16/50.. Train loss: 0.746.. Test loss: 0.874..Train accuracy: 0.710..\n",
      "Epoch: 16/50.. Train loss: 1.513.. Test loss: 0.890..Train accuracy: 0.705..\n",
      "Epoch: 16/50.. Train loss: 2.292.. Test loss: 0.972..Train accuracy: 0.684..\n",
      "Epoch: 16/50.. Train loss: 3.074.. Test loss: 0.904..Train accuracy: 0.703..\n",
      "Epoch: 16/50.. Train loss: 3.880.. Test loss: 0.898..Train accuracy: 0.704..\n",
      "Epoch: 16/50.. Train loss: 4.664.. Test loss: 0.890..Train accuracy: 0.706..\n",
      "Epoch: 17/50.. Train loss: 0.002.. Test loss: 0.891..Train accuracy: 0.704..\n",
      "Epoch: 17/50.. Train loss: 0.741.. Test loss: 0.902..Train accuracy: 0.711..\n",
      "Epoch: 17/50.. Train loss: 1.503.. Test loss: 0.902..Train accuracy: 0.696..\n",
      "Epoch: 17/50.. Train loss: 2.271.. Test loss: 0.938..Train accuracy: 0.690..\n",
      "Epoch: 17/50.. Train loss: 3.038.. Test loss: 0.924..Train accuracy: 0.700..\n",
      "Epoch: 17/50.. Train loss: 3.803.. Test loss: 0.925..Train accuracy: 0.701..\n",
      "Epoch: 17/50.. Train loss: 4.590.. Test loss: 0.906..Train accuracy: 0.708..\n",
      "Epoch: 18/50.. Train loss: 0.004.. Test loss: 0.947..Train accuracy: 0.695..\n",
      "Epoch: 18/50.. Train loss: 0.751.. Test loss: 0.892..Train accuracy: 0.703..\n",
      "Epoch: 18/50.. Train loss: 1.483.. Test loss: 0.884..Train accuracy: 0.716..\n",
      "Epoch: 18/50.. Train loss: 2.221.. Test loss: 0.906..Train accuracy: 0.711..\n",
      "Epoch: 18/50.. Train loss: 3.001.. Test loss: 0.933..Train accuracy: 0.699..\n",
      "Epoch: 18/50.. Train loss: 3.745.. Test loss: 0.877..Train accuracy: 0.713..\n",
      "Epoch: 18/50.. Train loss: 4.508.. Test loss: 0.919..Train accuracy: 0.698..\n",
      "Epoch: 19/50.. Train loss: 0.004.. Test loss: 0.907..Train accuracy: 0.701..\n",
      "Epoch: 19/50.. Train loss: 0.752.. Test loss: 0.888..Train accuracy: 0.711..\n",
      "Epoch: 19/50.. Train loss: 1.482.. Test loss: 0.904..Train accuracy: 0.710..\n",
      "Epoch: 19/50.. Train loss: 2.242.. Test loss: 0.916..Train accuracy: 0.712..\n",
      "Epoch: 19/50.. Train loss: 2.981.. Test loss: 0.903..Train accuracy: 0.704..\n",
      "Epoch: 19/50.. Train loss: 3.738.. Test loss: 0.913..Train accuracy: 0.705..\n",
      "Epoch: 19/50.. Train loss: 4.506.. Test loss: 0.935..Train accuracy: 0.699..\n",
      "Epoch: 20/50.. Train loss: 0.003.. Test loss: 0.896..Train accuracy: 0.707..\n",
      "Epoch: 20/50.. Train loss: 0.716.. Test loss: 0.908..Train accuracy: 0.711..\n",
      "Epoch: 20/50.. Train loss: 1.458.. Test loss: 0.909..Train accuracy: 0.705..\n",
      "Epoch: 20/50.. Train loss: 2.196.. Test loss: 0.911..Train accuracy: 0.706..\n",
      "Epoch: 20/50.. Train loss: 2.924.. Test loss: 0.927..Train accuracy: 0.703..\n",
      "Epoch: 20/50.. Train loss: 3.691.. Test loss: 0.895..Train accuracy: 0.707..\n",
      "Epoch: 20/50.. Train loss: 4.422.. Test loss: 0.974..Train accuracy: 0.693..\n",
      "Epoch: 21/50.. Train loss: 0.003.. Test loss: 0.905..Train accuracy: 0.708..\n",
      "Epoch: 21/50.. Train loss: 0.700.. Test loss: 0.879..Train accuracy: 0.716..\n",
      "Epoch: 21/50.. Train loss: 1.411.. Test loss: 0.935..Train accuracy: 0.699..\n",
      "Epoch: 21/50.. Train loss: 2.139.. Test loss: 0.902..Train accuracy: 0.715..\n",
      "Epoch: 21/50.. Train loss: 2.891.. Test loss: 0.882..Train accuracy: 0.715..\n",
      "Epoch: 21/50.. Train loss: 3.625.. Test loss: 0.925..Train accuracy: 0.707..\n",
      "Epoch: 21/50.. Train loss: 4.376.. Test loss: 0.877..Train accuracy: 0.712..\n",
      "Epoch: 22/50.. Train loss: 0.003.. Test loss: 0.910..Train accuracy: 0.712..\n",
      "Epoch: 22/50.. Train loss: 0.722.. Test loss: 0.900..Train accuracy: 0.707..\n",
      "Epoch: 22/50.. Train loss: 1.448.. Test loss: 0.897..Train accuracy: 0.714..\n",
      "Epoch: 22/50.. Train loss: 2.187.. Test loss: 0.898..Train accuracy: 0.712..\n",
      "Epoch: 22/50.. Train loss: 2.928.. Test loss: 0.991..Train accuracy: 0.690..\n",
      "Epoch: 22/50.. Train loss: 3.654.. Test loss: 0.912..Train accuracy: 0.706..\n",
      "Epoch: 22/50.. Train loss: 4.384.. Test loss: 0.954..Train accuracy: 0.702..\n",
      "Epoch: 23/50.. Train loss: 0.002.. Test loss: 0.920..Train accuracy: 0.702..\n",
      "Epoch: 23/50.. Train loss: 0.703.. Test loss: 0.937..Train accuracy: 0.701..\n",
      "Epoch: 23/50.. Train loss: 1.411.. Test loss: 0.928..Train accuracy: 0.707..\n",
      "Epoch: 23/50.. Train loss: 2.138.. Test loss: 0.930..Train accuracy: 0.709..\n",
      "Epoch: 23/50.. Train loss: 2.862.. Test loss: 0.905..Train accuracy: 0.711..\n",
      "Epoch: 23/50.. Train loss: 3.610.. Test loss: 0.900..Train accuracy: 0.708..\n",
      "Epoch: 23/50.. Train loss: 4.339.. Test loss: 0.913..Train accuracy: 0.709..\n",
      "Epoch: 24/50.. Train loss: 0.003.. Test loss: 0.899..Train accuracy: 0.709..\n",
      "Epoch: 24/50.. Train loss: 0.706.. Test loss: 0.932..Train accuracy: 0.704..\n",
      "Epoch: 24/50.. Train loss: 1.424.. Test loss: 0.963..Train accuracy: 0.704..\n",
      "Epoch: 24/50.. Train loss: 2.137.. Test loss: 0.909..Train accuracy: 0.711..\n",
      "Epoch: 24/50.. Train loss: 2.847.. Test loss: 0.915..Train accuracy: 0.704..\n",
      "Epoch: 24/50.. Train loss: 3.584.. Test loss: 0.937..Train accuracy: 0.705..\n",
      "Epoch: 24/50.. Train loss: 4.303.. Test loss: 0.910..Train accuracy: 0.717..\n",
      "Epoch: 25/50.. Train loss: 0.003.. Test loss: 0.923..Train accuracy: 0.708..\n",
      "Epoch: 25/50.. Train loss: 0.680.. Test loss: 0.938..Train accuracy: 0.701..\n",
      "Epoch: 25/50.. Train loss: 1.420.. Test loss: 0.915..Train accuracy: 0.707..\n",
      "Epoch: 25/50.. Train loss: 2.128.. Test loss: 0.937..Train accuracy: 0.707..\n",
      "Epoch: 25/50.. Train loss: 2.845.. Test loss: 0.952..Train accuracy: 0.697..\n",
      "Epoch: 25/50.. Train loss: 3.548.. Test loss: 0.936..Train accuracy: 0.710..\n",
      "Epoch: 25/50.. Train loss: 4.266.. Test loss: 0.918..Train accuracy: 0.710..\n",
      "Epoch: 26/50.. Train loss: 0.003.. Test loss: 0.912..Train accuracy: 0.712..\n",
      "Epoch: 26/50.. Train loss: 0.667.. Test loss: 0.937..Train accuracy: 0.713..\n",
      "Epoch: 26/50.. Train loss: 1.355.. Test loss: 0.904..Train accuracy: 0.712..\n",
      "Epoch: 26/50.. Train loss: 2.057.. Test loss: 0.934..Train accuracy: 0.712..\n",
      "Epoch: 26/50.. Train loss: 2.785.. Test loss: 0.943..Train accuracy: 0.703..\n",
      "Epoch: 26/50.. Train loss: 3.496.. Test loss: 0.955..Train accuracy: 0.702..\n",
      "Epoch: 26/50.. Train loss: 4.221.. Test loss: 0.961..Train accuracy: 0.700..\n",
      "Epoch: 27/50.. Train loss: 0.003.. Test loss: 0.913..Train accuracy: 0.711..\n",
      "Epoch: 27/50.. Train loss: 0.667.. Test loss: 0.920..Train accuracy: 0.720..\n",
      "Epoch: 27/50.. Train loss: 1.343.. Test loss: 0.966..Train accuracy: 0.697..\n",
      "Epoch: 27/50.. Train loss: 2.024.. Test loss: 0.934..Train accuracy: 0.706..\n",
      "Epoch: 27/50.. Train loss: 2.731.. Test loss: 0.956..Train accuracy: 0.704..\n",
      "Epoch: 27/50.. Train loss: 3.440.. Test loss: 0.942..Train accuracy: 0.702..\n",
      "Epoch: 27/50.. Train loss: 4.162.. Test loss: 0.933..Train accuracy: 0.708..\n",
      "Epoch: 28/50.. Train loss: 0.004.. Test loss: 0.923..Train accuracy: 0.713..\n",
      "Epoch: 28/50.. Train loss: 0.691.. Test loss: 0.934..Train accuracy: 0.709..\n",
      "Epoch: 28/50.. Train loss: 1.378.. Test loss: 0.940..Train accuracy: 0.707..\n",
      "Epoch: 28/50.. Train loss: 2.038.. Test loss: 0.941..Train accuracy: 0.704..\n",
      "Epoch: 28/50.. Train loss: 2.757.. Test loss: 0.945..Train accuracy: 0.703..\n",
      "Epoch: 28/50.. Train loss: 3.458.. Test loss: 0.936..Train accuracy: 0.709..\n",
      "Epoch: 28/50.. Train loss: 4.188.. Test loss: 0.910..Train accuracy: 0.707..\n",
      "Epoch: 29/50.. Train loss: 0.002.. Test loss: 0.952..Train accuracy: 0.702..\n",
      "Epoch: 29/50.. Train loss: 0.655.. Test loss: 0.963..Train accuracy: 0.710..\n",
      "Epoch: 29/50.. Train loss: 1.321.. Test loss: 0.937..Train accuracy: 0.715..\n",
      "Epoch: 29/50.. Train loss: 2.007.. Test loss: 0.954..Train accuracy: 0.707..\n",
      "Epoch: 29/50.. Train loss: 2.694.. Test loss: 0.954..Train accuracy: 0.703..\n",
      "Epoch: 29/50.. Train loss: 3.398.. Test loss: 0.989..Train accuracy: 0.698..\n",
      "Epoch: 29/50.. Train loss: 4.103.. Test loss: 0.920..Train accuracy: 0.715..\n",
      "Epoch: 30/50.. Train loss: 0.003.. Test loss: 0.918..Train accuracy: 0.705..\n",
      "Epoch: 30/50.. Train loss: 0.654.. Test loss: 0.966..Train accuracy: 0.710..\n",
      "Epoch: 30/50.. Train loss: 1.331.. Test loss: 0.999..Train accuracy: 0.694..\n",
      "Epoch: 30/50.. Train loss: 1.996.. Test loss: 0.927..Train accuracy: 0.713..\n",
      "Epoch: 30/50.. Train loss: 2.683.. Test loss: 0.934..Train accuracy: 0.710..\n",
      "Epoch: 30/50.. Train loss: 3.394.. Test loss: 0.917..Train accuracy: 0.707..\n",
      "Epoch: 30/50.. Train loss: 4.109.. Test loss: 0.923..Train accuracy: 0.713..\n",
      "Epoch: 31/50.. Train loss: 0.003.. Test loss: 0.955..Train accuracy: 0.708..\n",
      "Epoch: 31/50.. Train loss: 0.650.. Test loss: 0.950..Train accuracy: 0.712..\n",
      "Epoch: 31/50.. Train loss: 1.314.. Test loss: 0.927..Train accuracy: 0.716..\n",
      "Epoch: 31/50.. Train loss: 1.970.. Test loss: 0.978..Train accuracy: 0.703..\n",
      "Epoch: 31/50.. Train loss: 2.638.. Test loss: 0.991..Train accuracy: 0.699..\n",
      "Epoch: 31/50.. Train loss: 3.320.. Test loss: 0.940..Train accuracy: 0.707..\n",
      "Epoch: 31/50.. Train loss: 3.992.. Test loss: 0.968..Train accuracy: 0.708..\n",
      "Epoch: 32/50.. Train loss: 0.001.. Test loss: 0.947..Train accuracy: 0.707..\n",
      "Epoch: 32/50.. Train loss: 0.644.. Test loss: 1.007..Train accuracy: 0.696..\n",
      "Epoch: 32/50.. Train loss: 1.307.. Test loss: 0.982..Train accuracy: 0.705..\n",
      "Epoch: 32/50.. Train loss: 1.979.. Test loss: 1.013..Train accuracy: 0.688..\n",
      "Epoch: 32/50.. Train loss: 2.651.. Test loss: 0.956..Train accuracy: 0.708..\n",
      "Epoch: 32/50.. Train loss: 3.354.. Test loss: 0.952..Train accuracy: 0.711..\n",
      "Epoch: 32/50.. Train loss: 4.062.. Test loss: 0.937..Train accuracy: 0.708..\n",
      "Epoch: 33/50.. Train loss: 0.002.. Test loss: 0.925..Train accuracy: 0.707..\n",
      "Epoch: 33/50.. Train loss: 0.635.. Test loss: 0.961..Train accuracy: 0.709..\n",
      "Epoch: 33/50.. Train loss: 1.279.. Test loss: 0.928..Train accuracy: 0.715..\n",
      "Epoch: 33/50.. Train loss: 1.936.. Test loss: 0.976..Train accuracy: 0.705..\n",
      "Epoch: 33/50.. Train loss: 2.623.. Test loss: 0.981..Train accuracy: 0.702..\n",
      "Epoch: 33/50.. Train loss: 3.297.. Test loss: 0.955..Train accuracy: 0.712..\n",
      "Epoch: 33/50.. Train loss: 3.974.. Test loss: 0.927..Train accuracy: 0.713..\n",
      "Epoch: 34/50.. Train loss: 0.003.. Test loss: 0.960..Train accuracy: 0.709..\n",
      "Epoch: 34/50.. Train loss: 0.661.. Test loss: 0.971..Train accuracy: 0.706..\n",
      "Epoch: 34/50.. Train loss: 1.340.. Test loss: 0.961..Train accuracy: 0.712..\n",
      "Epoch: 34/50.. Train loss: 2.003.. Test loss: 0.930..Train accuracy: 0.715..\n",
      "Epoch: 34/50.. Train loss: 2.685.. Test loss: 0.914..Train accuracy: 0.716..\n",
      "Epoch: 34/50.. Train loss: 3.358.. Test loss: 0.932..Train accuracy: 0.720..\n",
      "Epoch: 34/50.. Train loss: 4.032.. Test loss: 0.947..Train accuracy: 0.706..\n",
      "Epoch: 35/50.. Train loss: 0.002.. Test loss: 0.949..Train accuracy: 0.709..\n",
      "Epoch: 35/50.. Train loss: 0.636.. Test loss: 0.975..Train accuracy: 0.709..\n",
      "Epoch: 35/50.. Train loss: 1.276.. Test loss: 1.042..Train accuracy: 0.693..\n",
      "Epoch: 35/50.. Train loss: 1.935.. Test loss: 0.959..Train accuracy: 0.715..\n",
      "Epoch: 35/50.. Train loss: 2.599.. Test loss: 0.938..Train accuracy: 0.709..\n",
      "Epoch: 35/50.. Train loss: 3.266.. Test loss: 0.964..Train accuracy: 0.710..\n",
      "Epoch: 35/50.. Train loss: 3.948.. Test loss: 1.014..Train accuracy: 0.699..\n",
      "Epoch: 36/50.. Train loss: 0.003.. Test loss: 0.998..Train accuracy: 0.695..\n",
      "Epoch: 36/50.. Train loss: 0.635.. Test loss: 0.994..Train accuracy: 0.703..\n",
      "Epoch: 36/50.. Train loss: 1.268.. Test loss: 1.003..Train accuracy: 0.706..\n",
      "Epoch: 36/50.. Train loss: 1.895.. Test loss: 0.985..Train accuracy: 0.714..\n",
      "Epoch: 36/50.. Train loss: 2.562.. Test loss: 1.019..Train accuracy: 0.699..\n",
      "Epoch: 36/50.. Train loss: 3.227.. Test loss: 0.965..Train accuracy: 0.706..\n",
      "Epoch: 36/50.. Train loss: 3.910.. Test loss: 1.008..Train accuracy: 0.705..\n",
      "Epoch: 37/50.. Train loss: 0.003.. Test loss: 0.953..Train accuracy: 0.711..\n",
      "Epoch: 37/50.. Train loss: 0.631.. Test loss: 0.968..Train accuracy: 0.712..\n",
      "Epoch: 37/50.. Train loss: 1.251.. Test loss: 0.963..Train accuracy: 0.713..\n",
      "Epoch: 37/50.. Train loss: 1.917.. Test loss: 0.995..Train accuracy: 0.707..\n",
      "Epoch: 37/50.. Train loss: 2.589.. Test loss: 0.979..Train accuracy: 0.704..\n",
      "Epoch: 37/50.. Train loss: 3.253.. Test loss: 0.946..Train accuracy: 0.709..\n",
      "Epoch: 37/50.. Train loss: 3.906.. Test loss: 1.022..Train accuracy: 0.691..\n",
      "Epoch: 38/50.. Train loss: 0.003.. Test loss: 0.996..Train accuracy: 0.699..\n",
      "Epoch: 38/50.. Train loss: 0.626.. Test loss: 1.032..Train accuracy: 0.700..\n",
      "Epoch: 38/50.. Train loss: 1.257.. Test loss: 0.989..Train accuracy: 0.702..\n",
      "Epoch: 38/50.. Train loss: 1.908.. Test loss: 1.058..Train accuracy: 0.697..\n",
      "Epoch: 38/50.. Train loss: 2.552.. Test loss: 0.986..Train accuracy: 0.703..\n",
      "Epoch: 38/50.. Train loss: 3.207.. Test loss: 0.972..Train accuracy: 0.703..\n",
      "Epoch: 38/50.. Train loss: 3.874.. Test loss: 0.952..Train accuracy: 0.710..\n",
      "Epoch: 39/50.. Train loss: 0.002.. Test loss: 1.015..Train accuracy: 0.703..\n",
      "Epoch: 39/50.. Train loss: 0.618.. Test loss: 1.037..Train accuracy: 0.700..\n",
      "Epoch: 39/50.. Train loss: 1.229.. Test loss: 0.975..Train accuracy: 0.711..\n",
      "Epoch: 39/50.. Train loss: 1.876.. Test loss: 0.997..Train accuracy: 0.707..\n",
      "Epoch: 39/50.. Train loss: 2.549.. Test loss: 0.967..Train accuracy: 0.703..\n",
      "Epoch: 39/50.. Train loss: 3.210.. Test loss: 0.961..Train accuracy: 0.715..\n",
      "Epoch: 39/50.. Train loss: 3.873.. Test loss: 0.996..Train accuracy: 0.704..\n",
      "Epoch: 40/50.. Train loss: 0.003.. Test loss: 0.945..Train accuracy: 0.708..\n",
      "Epoch: 40/50.. Train loss: 0.650.. Test loss: 0.973..Train accuracy: 0.711..\n",
      "Epoch: 40/50.. Train loss: 1.273.. Test loss: 1.007..Train accuracy: 0.700..\n",
      "Epoch: 40/50.. Train loss: 1.919.. Test loss: 0.996..Train accuracy: 0.703..\n",
      "Epoch: 40/50.. Train loss: 2.567.. Test loss: 0.995..Train accuracy: 0.707..\n",
      "Epoch: 40/50.. Train loss: 3.196.. Test loss: 0.980..Train accuracy: 0.706..\n",
      "Epoch: 40/50.. Train loss: 3.848.. Test loss: 1.008..Train accuracy: 0.703..\n",
      "Epoch: 41/50.. Train loss: 0.002.. Test loss: 1.009..Train accuracy: 0.701..\n",
      "Epoch: 41/50.. Train loss: 0.604.. Test loss: 1.025..Train accuracy: 0.710..\n",
      "Epoch: 41/50.. Train loss: 1.238.. Test loss: 1.050..Train accuracy: 0.696..\n",
      "Epoch: 41/50.. Train loss: 1.885.. Test loss: 0.997..Train accuracy: 0.702..\n",
      "Epoch: 41/50.. Train loss: 2.524.. Test loss: 0.994..Train accuracy: 0.711..\n",
      "Epoch: 41/50.. Train loss: 3.194.. Test loss: 0.986..Train accuracy: 0.702..\n",
      "Epoch: 41/50.. Train loss: 3.844.. Test loss: 1.013..Train accuracy: 0.703..\n",
      "Epoch: 42/50.. Train loss: 0.003.. Test loss: 0.978..Train accuracy: 0.707..\n",
      "Epoch: 42/50.. Train loss: 0.606.. Test loss: 1.021..Train accuracy: 0.709..\n",
      "Epoch: 42/50.. Train loss: 1.225.. Test loss: 1.024..Train accuracy: 0.706..\n",
      "Epoch: 42/50.. Train loss: 1.867.. Test loss: 1.025..Train accuracy: 0.702..\n",
      "Epoch: 42/50.. Train loss: 2.496.. Test loss: 1.009..Train accuracy: 0.710..\n",
      "Epoch: 42/50.. Train loss: 3.151.. Test loss: 0.979..Train accuracy: 0.708..\n",
      "Epoch: 42/50.. Train loss: 3.807.. Test loss: 0.996..Train accuracy: 0.711..\n",
      "Epoch: 43/50.. Train loss: 0.003.. Test loss: 0.997..Train accuracy: 0.711..\n",
      "Epoch: 43/50.. Train loss: 0.614.. Test loss: 1.019..Train accuracy: 0.709..\n",
      "Epoch: 43/50.. Train loss: 1.227.. Test loss: 1.008..Train accuracy: 0.705..\n",
      "Epoch: 43/50.. Train loss: 1.864.. Test loss: 1.016..Train accuracy: 0.706..\n",
      "Epoch: 43/50.. Train loss: 2.490.. Test loss: 1.028..Train accuracy: 0.703..\n",
      "Epoch: 43/50.. Train loss: 3.146.. Test loss: 1.007..Train accuracy: 0.705..\n",
      "Epoch: 43/50.. Train loss: 3.795.. Test loss: 0.999..Train accuracy: 0.705..\n",
      "Epoch: 44/50.. Train loss: 0.001.. Test loss: 0.973..Train accuracy: 0.710..\n",
      "Epoch: 44/50.. Train loss: 0.608.. Test loss: 1.072..Train accuracy: 0.695..\n",
      "Epoch: 44/50.. Train loss: 1.239.. Test loss: 1.025..Train accuracy: 0.714..\n",
      "Epoch: 44/50.. Train loss: 1.857.. Test loss: 0.979..Train accuracy: 0.711..\n",
      "Epoch: 44/50.. Train loss: 2.491.. Test loss: 0.987..Train accuracy: 0.709..\n",
      "Epoch: 44/50.. Train loss: 3.122.. Test loss: 1.009..Train accuracy: 0.705..\n",
      "Epoch: 44/50.. Train loss: 3.780.. Test loss: 0.964..Train accuracy: 0.713..\n",
      "Epoch: 45/50.. Train loss: 0.003.. Test loss: 0.985..Train accuracy: 0.715..\n",
      "Epoch: 45/50.. Train loss: 0.627.. Test loss: 0.970..Train accuracy: 0.708..\n",
      "Epoch: 45/50.. Train loss: 1.254.. Test loss: 1.025..Train accuracy: 0.713..\n",
      "Epoch: 45/50.. Train loss: 1.883.. Test loss: 1.032..Train accuracy: 0.704..\n",
      "Epoch: 45/50.. Train loss: 2.515.. Test loss: 1.046..Train accuracy: 0.705..\n",
      "Epoch: 45/50.. Train loss: 3.154.. Test loss: 1.021..Train accuracy: 0.700..\n",
      "Epoch: 45/50.. Train loss: 3.790.. Test loss: 1.009..Train accuracy: 0.708..\n",
      "Epoch: 46/50.. Train loss: 0.002.. Test loss: 0.985..Train accuracy: 0.718..\n",
      "Epoch: 46/50.. Train loss: 0.624.. Test loss: 1.010..Train accuracy: 0.709..\n",
      "Epoch: 46/50.. Train loss: 1.245.. Test loss: 1.009..Train accuracy: 0.712..\n",
      "Epoch: 46/50.. Train loss: 1.869.. Test loss: 0.985..Train accuracy: 0.712..\n",
      "Epoch: 46/50.. Train loss: 2.498.. Test loss: 1.066..Train accuracy: 0.694..\n",
      "Epoch: 46/50.. Train loss: 3.138.. Test loss: 1.032..Train accuracy: 0.700..\n",
      "Epoch: 46/50.. Train loss: 3.773.. Test loss: 1.020..Train accuracy: 0.702..\n",
      "Epoch: 47/50.. Train loss: 0.001.. Test loss: 1.000..Train accuracy: 0.707..\n",
      "Epoch: 47/50.. Train loss: 0.596.. Test loss: 1.055..Train accuracy: 0.703..\n",
      "Epoch: 47/50.. Train loss: 1.203.. Test loss: 1.039..Train accuracy: 0.705..\n",
      "Epoch: 47/50.. Train loss: 1.844.. Test loss: 1.031..Train accuracy: 0.700..\n",
      "Epoch: 47/50.. Train loss: 2.474.. Test loss: 1.022..Train accuracy: 0.702..\n",
      "Epoch: 47/50.. Train loss: 3.100.. Test loss: 1.067..Train accuracy: 0.698..\n",
      "Epoch: 47/50.. Train loss: 3.756.. Test loss: 1.007..Train accuracy: 0.712..\n",
      "Epoch: 48/50.. Train loss: 0.003.. Test loss: 0.981..Train accuracy: 0.707..\n",
      "Epoch: 48/50.. Train loss: 0.608.. Test loss: 1.093..Train accuracy: 0.693..\n",
      "Epoch: 48/50.. Train loss: 1.245.. Test loss: 1.030..Train accuracy: 0.706..\n",
      "Epoch: 48/50.. Train loss: 1.869.. Test loss: 1.051..Train accuracy: 0.700..\n",
      "Epoch: 48/50.. Train loss: 2.491.. Test loss: 1.024..Train accuracy: 0.702..\n",
      "Epoch: 48/50.. Train loss: 3.115.. Test loss: 1.056..Train accuracy: 0.707..\n",
      "Epoch: 48/50.. Train loss: 3.749.. Test loss: 1.025..Train accuracy: 0.707..\n",
      "Epoch: 49/50.. Train loss: 0.002.. Test loss: 1.011..Train accuracy: 0.708..\n",
      "Epoch: 49/50.. Train loss: 0.611.. Test loss: 1.070..Train accuracy: 0.701..\n",
      "Epoch: 49/50.. Train loss: 1.212.. Test loss: 1.037..Train accuracy: 0.710..\n",
      "Epoch: 49/50.. Train loss: 1.838.. Test loss: 1.026..Train accuracy: 0.704..\n",
      "Epoch: 49/50.. Train loss: 2.449.. Test loss: 1.035..Train accuracy: 0.716..\n",
      "Epoch: 49/50.. Train loss: 3.080.. Test loss: 0.990..Train accuracy: 0.706..\n",
      "Epoch: 49/50.. Train loss: 3.709.. Test loss: 1.011..Train accuracy: 0.704..\n",
      "Epoch: 50/50.. Train loss: 0.002.. Test loss: 1.018..Train accuracy: 0.701..\n",
      "Epoch: 50/50.. Train loss: 0.587.. Test loss: 1.077..Train accuracy: 0.706..\n",
      "Epoch: 50/50.. Train loss: 1.182.. Test loss: 1.044..Train accuracy: 0.708..\n",
      "Epoch: 50/50.. Train loss: 1.803.. Test loss: 1.025..Train accuracy: 0.710..\n",
      "Epoch: 50/50.. Train loss: 2.434.. Test loss: 1.025..Train accuracy: 0.702..\n",
      "Epoch: 50/50.. Train loss: 3.066.. Test loss: 1.020..Train accuracy: 0.706..\n",
      "Epoch: 50/50.. Train loss: 3.689.. Test loss: 1.046..Train accuracy: 0.714..\n"
     ]
    }
   ],
   "source": [
    "epochs = 50\n",
    "print_every = 250\n",
    "train_losses = []\n",
    "\n",
    "for epoch in range(epochs):\n",
    "    running_loss = 0\n",
    "    for batch_num, (images, labels) in enumerate(trainloader):\n",
    "        \n",
    "        images, labels = images.to(device), labels.to(device)\n",
    "        \n",
    "        optimizer.zero_grad()\n",
    "        \n",
    "        logps = model(images)\n",
    "        loss = criterion(logps, labels)\n",
    "        loss.backward()\n",
    "        optimizer.step()\n",
    "        \n",
    "        running_loss += loss.item()\n",
    "\n",
    "        if batch_num % print_every == 0:\n",
    "            model.eval()\n",
    "            test_loss, accuracy = 0, 0\n",
    "            for images, labels in testloader:\n",
    "                images, labels = images.to(device), labels.to(device)\n",
    "                logps = model(images)\n",
    "                loss = criterion(logps, labels)\n",
    "                test_loss += loss.item()\n",
    "\n",
    "                ps = torch.exp(logps)\n",
    "                top_ps, top_class = ps.topk(1, dim=1)\n",
    "                equality = top_class == labels.view(*top_class.shape)\n",
    "                accuracy += torch.mean(equality.type(torch.FloatTensor)).item()\n",
    "\n",
    "            print(f'Epoch: {epoch+1}/{epochs}.. '\n",
    "                  f'Train loss: {running_loss/print_every:.3f}.. '\n",
    "                  f'Test loss: {test_loss/len(testloader):.3f}..'\n",
    "                  f'Train accuracy: {accuracy/len(testloader):.3f}..')\n",
    "\n",
    "            model.train()\n",
    "\n",
    "    train_losses.append(running_loss/len(trainloader))"
   ]
  },
  {
   "cell_type": "markdown",
   "metadata": {},
   "source": [
    "Plot the training loss (and validation loss/accuracy, if recorded)."
   ]
  },
  {
   "cell_type": "code",
   "execution_count": 11,
   "metadata": {},
   "outputs": [
    {
     "data": {
      "image/png": "[encoded data removed]",
      "text/plain": [
       "<Figure size 640x480 with 1 Axes>"
      ]
     },
     "metadata": {},
     "output_type": "display_data"
    }
   ],
   "source": [
    "plt.plot(train_losses);"
   ]
  },
  {
   "cell_type": "markdown",
   "metadata": {},
   "source": [
    "## Testing your model\n",
    "Using the previously created `DataLoader` for the test set, compute the percentage of correct predictions using the highest probability prediction. \n",
    "\n",
    "If your accuracy is over 70%, great work! \n",
    "This is a hard task to exceed 70% on.\n",
    "\n",
    "If your accuracy is under 45%, you'll need to make improvements.\n",
    "Go back and check your model architecture, loss function, and optimizer to make sure they're appropriate for an image classification task."
   ]
  },
  {
   "cell_type": "code",
   "execution_count": 12,
   "metadata": {},
   "outputs": [],
   "source": [
    "## YOUR CODE HERE ##"
   ]
  },
  {
   "cell_type": "markdown",
   "metadata": {},
   "source": [
    "## Saving your model\n",
    "Using `torch.save`, save your model for future loading."
   ]
  },
  {
   "cell_type": "code",
   "execution_count": 13,
   "metadata": {},
   "outputs": [],
   "source": [
    "torch.save(model, 'model.pt')"
   ]
  },
  {
   "cell_type": "markdown",
   "metadata": {},
   "source": [
    "## Make a Recommendation\n",
    "\n",
    "Based on your evaluation, what is your recommendation on whether to build or buy? Explain your reasoning below."
   ]
  },
  {
   "cell_type": "markdown",
   "metadata": {},
   "source": [
    "We were able to build a model that has an accuracy over 70%. Given that the top models available are so expensive to train, the results we've got in our much simpler model may be considered very good. Our model's perfomance can be further improved by using the transfer learning technique. Therefore, my recommendation is definitely to build the classification model in house."
   ]
  }
 ],
 "metadata": {
  "kernelspec": {
   "display_name": "Python 3 (ipykernel)",
   "language": "python",
   "name": "python3"
  },
  "language_info": {
   "codemirror_mode": {
    "name": "ipython",
    "version": 3
   },
   "file_extension": ".py",
   "mimetype": "text/x-python",
   "name": "python",
   "nbconvert_exporter": "python",
   "pygments_lexer": "ipython3",
   "version": "3.10.13"
  }
 },
 "nbformat": 4,
 "nbformat_minor": 4
}
